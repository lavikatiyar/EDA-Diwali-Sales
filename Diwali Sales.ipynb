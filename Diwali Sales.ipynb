{
 "cells": [
  {
   "cell_type": "code",
   "execution_count": 1,
   "id": "14c6b4e4-ad2f-45cd-895b-b51a185e1baf",
   "metadata": {},
   "outputs": [],
   "source": [
    "import pandas as pd\n",
    "import numpy as np\n",
    "import seaborn as sns\n",
    "import matplotlib.pyplot as plt"
   ]
  },
  {
   "cell_type": "code",
   "execution_count": 2,
   "id": "9e494aff-1069-4b78-8108-5a2b76227c4d",
   "metadata": {},
   "outputs": [],
   "source": [
    "df = pd.read_csv('Diwali_Sales_Data.csv', encoding= 'unicode_escape')"
   ]
  },
  {
   "cell_type": "code",
   "execution_count": 3,
   "id": "8f81d97c-eee9-4cf7-9962-82e305815171",
   "metadata": {},
   "outputs": [
    {
     "data": {
      "text/plain": [
       "(11251, 15)"
      ]
     },
     "execution_count": 3,
     "metadata": {},
     "output_type": "execute_result"
    }
   ],
   "source": [
    "df.shape"
   ]
  },
  {
   "cell_type": "code",
   "execution_count": 4,
   "id": "4dde6f18-47dc-4a8b-8f57-980d072eacec",
   "metadata": {},
   "outputs": [
    {
     "data": {
      "text/html": [
       "<div>\n",
       "<style scoped>\n",
       "    .dataframe tbody tr th:only-of-type {\n",
       "        vertical-align: middle;\n",
       "    }\n",
       "\n",
       "    .dataframe tbody tr th {\n",
       "        vertical-align: top;\n",
       "    }\n",
       "\n",
       "    .dataframe thead th {\n",
       "        text-align: right;\n",
       "    }\n",
       "</style>\n",
       "<table border=\"1\" class=\"dataframe\">\n",
       "  <thead>\n",
       "    <tr style=\"text-align: right;\">\n",
       "      <th></th>\n",
       "      <th>User_ID</th>\n",
       "      <th>Cust_name</th>\n",
       "      <th>Product_ID</th>\n",
       "      <th>Gender</th>\n",
       "      <th>Age Group</th>\n",
       "      <th>Age</th>\n",
       "      <th>Marital_Status</th>\n",
       "      <th>State</th>\n",
       "      <th>Zone</th>\n",
       "      <th>Occupation</th>\n",
       "      <th>Product_Category</th>\n",
       "      <th>Orders</th>\n",
       "      <th>Amount</th>\n",
       "      <th>Status</th>\n",
       "      <th>unnamed1</th>\n",
       "    </tr>\n",
       "  </thead>\n",
       "  <tbody>\n",
       "    <tr>\n",
       "      <th>10465</th>\n",
       "      <td>1000957</td>\n",
       "      <td>Goldenen</td>\n",
       "      <td>P00111842</td>\n",
       "      <td>F</td>\n",
       "      <td>36-45</td>\n",
       "      <td>36</td>\n",
       "      <td>1</td>\n",
       "      <td>Madhya Pradesh</td>\n",
       "      <td>Central</td>\n",
       "      <td>Govt</td>\n",
       "      <td>Pet Care</td>\n",
       "      <td>2</td>\n",
       "      <td>2763.0</td>\n",
       "      <td>NaN</td>\n",
       "      <td>NaN</td>\n",
       "    </tr>\n",
       "    <tr>\n",
       "      <th>9878</th>\n",
       "      <td>1002475</td>\n",
       "      <td>MacKendrick</td>\n",
       "      <td>P00198042</td>\n",
       "      <td>M</td>\n",
       "      <td>26-35</td>\n",
       "      <td>28</td>\n",
       "      <td>1</td>\n",
       "      <td>Maharashtra</td>\n",
       "      <td>Western</td>\n",
       "      <td>Banking</td>\n",
       "      <td>Clothing &amp; Apparel</td>\n",
       "      <td>4</td>\n",
       "      <td>3651.0</td>\n",
       "      <td>NaN</td>\n",
       "      <td>NaN</td>\n",
       "    </tr>\n",
       "    <tr>\n",
       "      <th>354</th>\n",
       "      <td>1002889</td>\n",
       "      <td>Richard</td>\n",
       "      <td>P00196042</td>\n",
       "      <td>F</td>\n",
       "      <td>36-45</td>\n",
       "      <td>44</td>\n",
       "      <td>0</td>\n",
       "      <td>Karnataka</td>\n",
       "      <td>Southern</td>\n",
       "      <td>Healthcare</td>\n",
       "      <td>Footwear &amp; Shoes</td>\n",
       "      <td>1</td>\n",
       "      <td>20253.0</td>\n",
       "      <td>NaN</td>\n",
       "      <td>NaN</td>\n",
       "    </tr>\n",
       "    <tr>\n",
       "      <th>2521</th>\n",
       "      <td>1004457</td>\n",
       "      <td>Kane</td>\n",
       "      <td>P00156042</td>\n",
       "      <td>F</td>\n",
       "      <td>36-45</td>\n",
       "      <td>37</td>\n",
       "      <td>0</td>\n",
       "      <td>Uttar Pradesh</td>\n",
       "      <td>Central</td>\n",
       "      <td>Hospitality</td>\n",
       "      <td>Sports Products</td>\n",
       "      <td>1</td>\n",
       "      <td>13403.0</td>\n",
       "      <td>NaN</td>\n",
       "      <td>NaN</td>\n",
       "    </tr>\n",
       "    <tr>\n",
       "      <th>5118</th>\n",
       "      <td>1005961</td>\n",
       "      <td>Shubhi</td>\n",
       "      <td>P00332442</td>\n",
       "      <td>M</td>\n",
       "      <td>46-50</td>\n",
       "      <td>49</td>\n",
       "      <td>0</td>\n",
       "      <td>Kerala</td>\n",
       "      <td>Southern</td>\n",
       "      <td>Hospitality</td>\n",
       "      <td>Clothing &amp; Apparel</td>\n",
       "      <td>2</td>\n",
       "      <td>8671.0</td>\n",
       "      <td>NaN</td>\n",
       "      <td>NaN</td>\n",
       "    </tr>\n",
       "  </tbody>\n",
       "</table>\n",
       "</div>"
      ],
      "text/plain": [
       "       User_ID    Cust_name Product_ID Gender Age Group  Age  Marital_Status  \\\n",
       "10465  1000957     Goldenen  P00111842      F     36-45   36               1   \n",
       "9878   1002475  MacKendrick  P00198042      M     26-35   28               1   \n",
       "354    1002889      Richard  P00196042      F     36-45   44               0   \n",
       "2521   1004457         Kane  P00156042      F     36-45   37               0   \n",
       "5118   1005961       Shubhi  P00332442      M     46-50   49               0   \n",
       "\n",
       "                State      Zone   Occupation    Product_Category  Orders  \\\n",
       "10465  Madhya Pradesh   Central         Govt            Pet Care       2   \n",
       "9878      Maharashtra   Western      Banking  Clothing & Apparel       4   \n",
       "354         Karnataka  Southern   Healthcare    Footwear & Shoes       1   \n",
       "2521    Uttar Pradesh   Central  Hospitality     Sports Products       1   \n",
       "5118           Kerala  Southern  Hospitality  Clothing & Apparel       2   \n",
       "\n",
       "        Amount  Status  unnamed1  \n",
       "10465   2763.0     NaN       NaN  \n",
       "9878    3651.0     NaN       NaN  \n",
       "354    20253.0     NaN       NaN  \n",
       "2521   13403.0     NaN       NaN  \n",
       "5118    8671.0     NaN       NaN  "
      ]
     },
     "execution_count": 4,
     "metadata": {},
     "output_type": "execute_result"
    }
   ],
   "source": [
    "df.sample(5)"
   ]
  },
  {
   "cell_type": "code",
   "execution_count": 5,
   "id": "2bc451df-9bbc-4257-888a-d69651277274",
   "metadata": {},
   "outputs": [
    {
     "data": {
      "text/plain": [
       "count        11251\n",
       "unique        1250\n",
       "top       Vishakha\n",
       "freq            42\n",
       "Name: Cust_name, dtype: object"
      ]
     },
     "execution_count": 5,
     "metadata": {},
     "output_type": "execute_result"
    }
   ],
   "source": [
    "df.Cust_name.describe()"
   ]
  },
  {
   "cell_type": "code",
   "execution_count": 6,
   "id": "b5d66057-e4a8-4098-a457-113d29cb26c2",
   "metadata": {},
   "outputs": [
    {
     "name": "stdout",
     "output_type": "stream",
     "text": [
      "<class 'pandas.core.frame.DataFrame'>\n",
      "RangeIndex: 11251 entries, 0 to 11250\n",
      "Data columns (total 15 columns):\n",
      " #   Column            Non-Null Count  Dtype  \n",
      "---  ------            --------------  -----  \n",
      " 0   User_ID           11251 non-null  int64  \n",
      " 1   Cust_name         11251 non-null  object \n",
      " 2   Product_ID        11251 non-null  object \n",
      " 3   Gender            11251 non-null  object \n",
      " 4   Age Group         11251 non-null  object \n",
      " 5   Age               11251 non-null  int64  \n",
      " 6   Marital_Status    11251 non-null  int64  \n",
      " 7   State             11251 non-null  object \n",
      " 8   Zone              11251 non-null  object \n",
      " 9   Occupation        11251 non-null  object \n",
      " 10  Product_Category  11251 non-null  object \n",
      " 11  Orders            11251 non-null  int64  \n",
      " 12  Amount            11239 non-null  float64\n",
      " 13  Status            0 non-null      float64\n",
      " 14  unnamed1          0 non-null      float64\n",
      "dtypes: float64(3), int64(4), object(8)\n",
      "memory usage: 1.3+ MB\n"
     ]
    }
   ],
   "source": [
    "df.info()"
   ]
  },
  {
   "cell_type": "code",
   "execution_count": 7,
   "id": "1ac283f9-fe45-4966-b133-a9483673933d",
   "metadata": {},
   "outputs": [],
   "source": [
    "# drop unrelated or blank columns\n",
    "df_data = df.drop(['Status','unnamed1'], axis=1)"
   ]
  },
  {
   "cell_type": "code",
   "execution_count": 8,
   "id": "4f36b3c1-fed3-4b1f-b856-3cf46d997bce",
   "metadata": {},
   "outputs": [
    {
     "data": {
      "text/plain": [
       "(11251, 13)"
      ]
     },
     "execution_count": 8,
     "metadata": {},
     "output_type": "execute_result"
    }
   ],
   "source": [
    "df_data.shape"
   ]
  },
  {
   "cell_type": "code",
   "execution_count": 9,
   "id": "d43e0c9c-655d-4158-9e5d-ef6b6c2dce37",
   "metadata": {},
   "outputs": [
    {
     "data": {
      "text/html": [
       "<div>\n",
       "<style scoped>\n",
       "    .dataframe tbody tr th:only-of-type {\n",
       "        vertical-align: middle;\n",
       "    }\n",
       "\n",
       "    .dataframe tbody tr th {\n",
       "        vertical-align: top;\n",
       "    }\n",
       "\n",
       "    .dataframe thead th {\n",
       "        text-align: right;\n",
       "    }\n",
       "</style>\n",
       "<table border=\"1\" class=\"dataframe\">\n",
       "  <thead>\n",
       "    <tr style=\"text-align: right;\">\n",
       "      <th></th>\n",
       "      <th>User_ID</th>\n",
       "      <th>Cust_name</th>\n",
       "      <th>Product_ID</th>\n",
       "      <th>Gender</th>\n",
       "      <th>Age Group</th>\n",
       "      <th>Age</th>\n",
       "      <th>Marital_Status</th>\n",
       "      <th>State</th>\n",
       "      <th>Zone</th>\n",
       "      <th>Occupation</th>\n",
       "      <th>Product_Category</th>\n",
       "      <th>Orders</th>\n",
       "      <th>Amount</th>\n",
       "    </tr>\n",
       "  </thead>\n",
       "  <tbody>\n",
       "    <tr>\n",
       "      <th>0</th>\n",
       "      <td>1002903</td>\n",
       "      <td>Sanskriti</td>\n",
       "      <td>P00125942</td>\n",
       "      <td>F</td>\n",
       "      <td>26-35</td>\n",
       "      <td>28</td>\n",
       "      <td>0</td>\n",
       "      <td>Maharashtra</td>\n",
       "      <td>Western</td>\n",
       "      <td>Healthcare</td>\n",
       "      <td>Auto</td>\n",
       "      <td>1</td>\n",
       "      <td>23952.0</td>\n",
       "    </tr>\n",
       "    <tr>\n",
       "      <th>1</th>\n",
       "      <td>1000732</td>\n",
       "      <td>Kartik</td>\n",
       "      <td>P00110942</td>\n",
       "      <td>F</td>\n",
       "      <td>26-35</td>\n",
       "      <td>35</td>\n",
       "      <td>1</td>\n",
       "      <td>Andhra Pradesh</td>\n",
       "      <td>Southern</td>\n",
       "      <td>Govt</td>\n",
       "      <td>Auto</td>\n",
       "      <td>3</td>\n",
       "      <td>23934.0</td>\n",
       "    </tr>\n",
       "    <tr>\n",
       "      <th>2</th>\n",
       "      <td>1001990</td>\n",
       "      <td>Bindu</td>\n",
       "      <td>P00118542</td>\n",
       "      <td>F</td>\n",
       "      <td>26-35</td>\n",
       "      <td>35</td>\n",
       "      <td>1</td>\n",
       "      <td>Uttar Pradesh</td>\n",
       "      <td>Central</td>\n",
       "      <td>Automobile</td>\n",
       "      <td>Auto</td>\n",
       "      <td>3</td>\n",
       "      <td>23924.0</td>\n",
       "    </tr>\n",
       "    <tr>\n",
       "      <th>3</th>\n",
       "      <td>1001425</td>\n",
       "      <td>Sudevi</td>\n",
       "      <td>P00237842</td>\n",
       "      <td>M</td>\n",
       "      <td>0-17</td>\n",
       "      <td>16</td>\n",
       "      <td>0</td>\n",
       "      <td>Karnataka</td>\n",
       "      <td>Southern</td>\n",
       "      <td>Construction</td>\n",
       "      <td>Auto</td>\n",
       "      <td>2</td>\n",
       "      <td>23912.0</td>\n",
       "    </tr>\n",
       "    <tr>\n",
       "      <th>4</th>\n",
       "      <td>1000588</td>\n",
       "      <td>Joni</td>\n",
       "      <td>P00057942</td>\n",
       "      <td>M</td>\n",
       "      <td>26-35</td>\n",
       "      <td>28</td>\n",
       "      <td>1</td>\n",
       "      <td>Gujarat</td>\n",
       "      <td>Western</td>\n",
       "      <td>Food Processing</td>\n",
       "      <td>Auto</td>\n",
       "      <td>2</td>\n",
       "      <td>23877.0</td>\n",
       "    </tr>\n",
       "  </tbody>\n",
       "</table>\n",
       "</div>"
      ],
      "text/plain": [
       "   User_ID  Cust_name Product_ID Gender Age Group  Age  Marital_Status  \\\n",
       "0  1002903  Sanskriti  P00125942      F     26-35   28               0   \n",
       "1  1000732     Kartik  P00110942      F     26-35   35               1   \n",
       "2  1001990      Bindu  P00118542      F     26-35   35               1   \n",
       "3  1001425     Sudevi  P00237842      M      0-17   16               0   \n",
       "4  1000588       Joni  P00057942      M     26-35   28               1   \n",
       "\n",
       "            State      Zone       Occupation Product_Category  Orders   Amount  \n",
       "0     Maharashtra   Western       Healthcare             Auto       1  23952.0  \n",
       "1  Andhra Pradesh  Southern             Govt             Auto       3  23934.0  \n",
       "2   Uttar Pradesh   Central       Automobile             Auto       3  23924.0  \n",
       "3       Karnataka  Southern     Construction             Auto       2  23912.0  \n",
       "4         Gujarat   Western  Food Processing             Auto       2  23877.0  "
      ]
     },
     "execution_count": 9,
     "metadata": {},
     "output_type": "execute_result"
    }
   ],
   "source": [
    "df_data.head()"
   ]
  },
  {
   "cell_type": "code",
   "execution_count": 10,
   "id": "d2667dde-3a8b-46d3-b60a-493ba0ed3970",
   "metadata": {},
   "outputs": [
    {
     "name": "stdout",
     "output_type": "stream",
     "text": [
      "<class 'pandas.core.frame.DataFrame'>\n",
      "RangeIndex: 11251 entries, 0 to 11250\n",
      "Data columns (total 13 columns):\n",
      " #   Column            Non-Null Count  Dtype  \n",
      "---  ------            --------------  -----  \n",
      " 0   User_ID           11251 non-null  int64  \n",
      " 1   Cust_name         11251 non-null  object \n",
      " 2   Product_ID        11251 non-null  object \n",
      " 3   Gender            11251 non-null  object \n",
      " 4   Age Group         11251 non-null  object \n",
      " 5   Age               11251 non-null  int64  \n",
      " 6   Marital_Status    11251 non-null  int64  \n",
      " 7   State             11251 non-null  object \n",
      " 8   Zone              11251 non-null  object \n",
      " 9   Occupation        11251 non-null  object \n",
      " 10  Product_Category  11251 non-null  object \n",
      " 11  Orders            11251 non-null  int64  \n",
      " 12  Amount            11239 non-null  float64\n",
      "dtypes: float64(1), int64(4), object(8)\n",
      "memory usage: 1.1+ MB\n"
     ]
    }
   ],
   "source": [
    "df_data.info()"
   ]
  },
  {
   "cell_type": "code",
   "execution_count": 11,
   "id": "490957f3-ffc6-40db-917a-88a2d61779ed",
   "metadata": {},
   "outputs": [
    {
     "data": {
      "text/plain": [
       "User_ID              0\n",
       "Cust_name            0\n",
       "Product_ID           0\n",
       "Gender               0\n",
       "Age Group            0\n",
       "Age                  0\n",
       "Marital_Status       0\n",
       "State                0\n",
       "Zone                 0\n",
       "Occupation           0\n",
       "Product_Category     0\n",
       "Orders               0\n",
       "Amount              12\n",
       "dtype: int64"
      ]
     },
     "execution_count": 11,
     "metadata": {},
     "output_type": "execute_result"
    }
   ],
   "source": [
    "pd.isnull(df_data).sum()"
   ]
  },
  {
   "cell_type": "code",
   "execution_count": 12,
   "id": "6e296253-773f-40a6-a0aa-389e14e26e46",
   "metadata": {},
   "outputs": [
    {
     "data": {
      "text/plain": [
       "User_ID              0\n",
       "Cust_name            0\n",
       "Product_ID           0\n",
       "Gender               0\n",
       "Age Group            0\n",
       "Age                  0\n",
       "Marital_Status       0\n",
       "State                0\n",
       "Zone                 0\n",
       "Occupation           0\n",
       "Product_Category     0\n",
       "Orders               0\n",
       "Amount              12\n",
       "dtype: int64"
      ]
     },
     "execution_count": 12,
     "metadata": {},
     "output_type": "execute_result"
    }
   ],
   "source": [
    "# shows null values in each coulumn\n",
    "df_data.isnull().sum()"
   ]
  },
  {
   "cell_type": "code",
   "execution_count": 13,
   "id": "562a35f9-6a4d-4db3-b334-3ac97b07eb24",
   "metadata": {},
   "outputs": [
    {
     "data": {
      "text/plain": [
       "(11251, 13)"
      ]
     },
     "execution_count": 13,
     "metadata": {},
     "output_type": "execute_result"
    }
   ],
   "source": [
    "df_data.shape"
   ]
  },
  {
   "cell_type": "code",
   "execution_count": 14,
   "id": "1e5a8a00-ebc4-492b-a399-d5d9816f4dbf",
   "metadata": {},
   "outputs": [],
   "source": [
    "# dropping null values from whole data set\n",
    "df_data.dropna(inplace=True)"
   ]
  },
  {
   "cell_type": "code",
   "execution_count": 15,
   "id": "738b4287-14b1-47c5-bed9-73ac540e6659",
   "metadata": {},
   "outputs": [
    {
     "data": {
      "text/plain": [
       "(11239, 13)"
      ]
     },
     "execution_count": 15,
     "metadata": {},
     "output_type": "execute_result"
    }
   ],
   "source": [
    "df_data.shape"
   ]
  },
  {
   "cell_type": "code",
   "execution_count": 16,
   "id": "6b9e3e85-fcfa-4c2c-8677-c90dee84b74c",
   "metadata": {},
   "outputs": [
    {
     "data": {
      "text/plain": [
       "12"
      ]
     },
     "execution_count": 16,
     "metadata": {},
     "output_type": "execute_result"
    }
   ],
   "source": [
    "11251-11239"
   ]
  },
  {
   "cell_type": "code",
   "execution_count": 17,
   "id": "6efd689b-e4f2-468c-9187-235fe478c611",
   "metadata": {},
   "outputs": [
    {
     "data": {
      "text/plain": [
       "8"
      ]
     },
     "execution_count": 17,
     "metadata": {},
     "output_type": "execute_result"
    }
   ],
   "source": [
    "# checking duplicate data/rows \n",
    "df_data.duplicated().sum()"
   ]
  },
  {
   "cell_type": "code",
   "execution_count": 18,
   "id": "4b36dcb0-7417-4180-a61d-de7bcc1fb02c",
   "metadata": {},
   "outputs": [
    {
     "data": {
      "text/html": [
       "<div>\n",
       "<style scoped>\n",
       "    .dataframe tbody tr th:only-of-type {\n",
       "        vertical-align: middle;\n",
       "    }\n",
       "\n",
       "    .dataframe tbody tr th {\n",
       "        vertical-align: top;\n",
       "    }\n",
       "\n",
       "    .dataframe thead th {\n",
       "        text-align: right;\n",
       "    }\n",
       "</style>\n",
       "<table border=\"1\" class=\"dataframe\">\n",
       "  <thead>\n",
       "    <tr style=\"text-align: right;\">\n",
       "      <th></th>\n",
       "      <th>User_ID</th>\n",
       "      <th>Cust_name</th>\n",
       "      <th>Product_ID</th>\n",
       "      <th>Gender</th>\n",
       "      <th>Age Group</th>\n",
       "      <th>Age</th>\n",
       "      <th>Marital_Status</th>\n",
       "      <th>State</th>\n",
       "      <th>Zone</th>\n",
       "      <th>Occupation</th>\n",
       "      <th>Product_Category</th>\n",
       "      <th>Orders</th>\n",
       "      <th>Amount</th>\n",
       "    </tr>\n",
       "  </thead>\n",
       "  <tbody>\n",
       "    <tr>\n",
       "      <th>19</th>\n",
       "      <td>1001883</td>\n",
       "      <td>Praneet</td>\n",
       "      <td>P00029842</td>\n",
       "      <td>M</td>\n",
       "      <td>51-55</td>\n",
       "      <td>54</td>\n",
       "      <td>1</td>\n",
       "      <td>Uttar Pradesh</td>\n",
       "      <td>Central</td>\n",
       "      <td>Hospitality</td>\n",
       "      <td>Auto</td>\n",
       "      <td>1</td>\n",
       "      <td>23568.0</td>\n",
       "    </tr>\n",
       "    <tr>\n",
       "      <th>4404</th>\n",
       "      <td>1004725</td>\n",
       "      <td>Jackson</td>\n",
       "      <td>P00150842</td>\n",
       "      <td>F</td>\n",
       "      <td>36-45</td>\n",
       "      <td>37</td>\n",
       "      <td>1</td>\n",
       "      <td>Maharashtra</td>\n",
       "      <td>Western</td>\n",
       "      <td>Hospitality</td>\n",
       "      <td>Electronics &amp; Gadgets</td>\n",
       "      <td>4</td>\n",
       "      <td>9859.0</td>\n",
       "    </tr>\n",
       "    <tr>\n",
       "      <th>5703</th>\n",
       "      <td>1003208</td>\n",
       "      <td>Bowman</td>\n",
       "      <td>P00171642</td>\n",
       "      <td>F</td>\n",
       "      <td>26-35</td>\n",
       "      <td>31</td>\n",
       "      <td>0</td>\n",
       "      <td>Bihar</td>\n",
       "      <td>Eastern</td>\n",
       "      <td>Agriculture</td>\n",
       "      <td>Electronics &amp; Gadgets</td>\n",
       "      <td>4</td>\n",
       "      <td>8088.0</td>\n",
       "    </tr>\n",
       "    <tr>\n",
       "      <th>5908</th>\n",
       "      <td>1001260</td>\n",
       "      <td>Dheeraj</td>\n",
       "      <td>P00344042</td>\n",
       "      <td>M</td>\n",
       "      <td>26-35</td>\n",
       "      <td>28</td>\n",
       "      <td>0</td>\n",
       "      <td>Maharashtra</td>\n",
       "      <td>Western</td>\n",
       "      <td>IT Sector</td>\n",
       "      <td>Electronics &amp; Gadgets</td>\n",
       "      <td>4</td>\n",
       "      <td>8015.0</td>\n",
       "    </tr>\n",
       "    <tr>\n",
       "      <th>6173</th>\n",
       "      <td>1001325</td>\n",
       "      <td>Reese</td>\n",
       "      <td>P00111742</td>\n",
       "      <td>F</td>\n",
       "      <td>26-35</td>\n",
       "      <td>27</td>\n",
       "      <td>1</td>\n",
       "      <td>Gujarat</td>\n",
       "      <td>Western</td>\n",
       "      <td>Construction</td>\n",
       "      <td>Electronics &amp; Gadgets</td>\n",
       "      <td>3</td>\n",
       "      <td>7923.0</td>\n",
       "    </tr>\n",
       "    <tr>\n",
       "      <th>8651</th>\n",
       "      <td>1000083</td>\n",
       "      <td>Gute</td>\n",
       "      <td>P00242842</td>\n",
       "      <td>M</td>\n",
       "      <td>26-35</td>\n",
       "      <td>35</td>\n",
       "      <td>0</td>\n",
       "      <td>Uttar Pradesh</td>\n",
       "      <td>Central</td>\n",
       "      <td>Hospitality</td>\n",
       "      <td>Clothing &amp; Apparel</td>\n",
       "      <td>3</td>\n",
       "      <td>5345.0</td>\n",
       "    </tr>\n",
       "    <tr>\n",
       "      <th>8941</th>\n",
       "      <td>1001476</td>\n",
       "      <td>Anudeep</td>\n",
       "      <td>P00036842</td>\n",
       "      <td>M</td>\n",
       "      <td>18-25</td>\n",
       "      <td>25</td>\n",
       "      <td>0</td>\n",
       "      <td>Maharashtra</td>\n",
       "      <td>Western</td>\n",
       "      <td>IT Sector</td>\n",
       "      <td>Clothing &amp; Apparel</td>\n",
       "      <td>4</td>\n",
       "      <td>5202.0</td>\n",
       "    </tr>\n",
       "    <tr>\n",
       "      <th>10571</th>\n",
       "      <td>1004404</td>\n",
       "      <td>Rittenbach</td>\n",
       "      <td>P00150142</td>\n",
       "      <td>F</td>\n",
       "      <td>26-35</td>\n",
       "      <td>28</td>\n",
       "      <td>1</td>\n",
       "      <td>Haryana</td>\n",
       "      <td>Northern</td>\n",
       "      <td>Aviation</td>\n",
       "      <td>Electronics &amp; Gadgets</td>\n",
       "      <td>3</td>\n",
       "      <td>2304.0</td>\n",
       "    </tr>\n",
       "  </tbody>\n",
       "</table>\n",
       "</div>"
      ],
      "text/plain": [
       "       User_ID   Cust_name Product_ID Gender Age Group  Age  Marital_Status  \\\n",
       "19     1001883     Praneet  P00029842      M     51-55   54               1   \n",
       "4404   1004725     Jackson  P00150842      F     36-45   37               1   \n",
       "5703   1003208      Bowman  P00171642      F     26-35   31               0   \n",
       "5908   1001260     Dheeraj  P00344042      M     26-35   28               0   \n",
       "6173   1001325       Reese  P00111742      F     26-35   27               1   \n",
       "8651   1000083        Gute  P00242842      M     26-35   35               0   \n",
       "8941   1001476     Anudeep  P00036842      M     18-25   25               0   \n",
       "10571  1004404  Rittenbach  P00150142      F     26-35   28               1   \n",
       "\n",
       "               State      Zone    Occupation       Product_Category  Orders  \\\n",
       "19     Uttar Pradesh   Central   Hospitality                   Auto       1   \n",
       "4404     Maharashtra   Western   Hospitality  Electronics & Gadgets       4   \n",
       "5703           Bihar   Eastern   Agriculture  Electronics & Gadgets       4   \n",
       "5908     Maharashtra   Western     IT Sector  Electronics & Gadgets       4   \n",
       "6173         Gujarat   Western  Construction  Electronics & Gadgets       3   \n",
       "8651   Uttar Pradesh   Central   Hospitality     Clothing & Apparel       3   \n",
       "8941     Maharashtra   Western     IT Sector     Clothing & Apparel       4   \n",
       "10571        Haryana  Northern      Aviation  Electronics & Gadgets       3   \n",
       "\n",
       "        Amount  \n",
       "19     23568.0  \n",
       "4404    9859.0  \n",
       "5703    8088.0  \n",
       "5908    8015.0  \n",
       "6173    7923.0  \n",
       "8651    5345.0  \n",
       "8941    5202.0  \n",
       "10571   2304.0  "
      ]
     },
     "execution_count": 18,
     "metadata": {},
     "output_type": "execute_result"
    }
   ],
   "source": [
    "# getting duplicate data/rows for all columns\n",
    "duplicates = df_data[df_data.duplicated()]\n",
    "duplicates"
   ]
  },
  {
   "cell_type": "code",
   "execution_count": 19,
   "id": "25354291-f8e4-495a-85f9-6bf4306ba87d",
   "metadata": {},
   "outputs": [],
   "source": [
    "df_data.drop_duplicates(inplace=True)"
   ]
  },
  {
   "cell_type": "code",
   "execution_count": 20,
   "id": "53523c15-aca8-42f9-a8bd-ee401493a5c2",
   "metadata": {},
   "outputs": [
    {
     "data": {
      "text/plain": [
       "(11231, 13)"
      ]
     },
     "execution_count": 20,
     "metadata": {},
     "output_type": "execute_result"
    }
   ],
   "source": [
    "df_data.shape"
   ]
  },
  {
   "cell_type": "code",
   "execution_count": 21,
   "id": "a7ee0834-0c0d-40c5-86f8-7bd3210011e8",
   "metadata": {},
   "outputs": [
    {
     "data": {
      "text/plain": [
       "8"
      ]
     },
     "execution_count": 21,
     "metadata": {},
     "output_type": "execute_result"
    }
   ],
   "source": [
    "11239-11231"
   ]
  },
  {
   "cell_type": "code",
   "execution_count": 22,
   "id": "a3a33561-ee2b-4548-97ed-9c8777f5b9e1",
   "metadata": {},
   "outputs": [
    {
     "name": "stdout",
     "output_type": "stream",
     "text": [
      "<class 'pandas.core.frame.DataFrame'>\n",
      "Int64Index: 11231 entries, 0 to 11250\n",
      "Data columns (total 13 columns):\n",
      " #   Column            Non-Null Count  Dtype  \n",
      "---  ------            --------------  -----  \n",
      " 0   User_ID           11231 non-null  int64  \n",
      " 1   Cust_name         11231 non-null  object \n",
      " 2   Product_ID        11231 non-null  object \n",
      " 3   Gender            11231 non-null  object \n",
      " 4   Age Group         11231 non-null  object \n",
      " 5   Age               11231 non-null  int64  \n",
      " 6   Marital_Status    11231 non-null  int64  \n",
      " 7   State             11231 non-null  object \n",
      " 8   Zone              11231 non-null  object \n",
      " 9   Occupation        11231 non-null  object \n",
      " 10  Product_Category  11231 non-null  object \n",
      " 11  Orders            11231 non-null  int64  \n",
      " 12  Amount            11231 non-null  float64\n",
      "dtypes: float64(1), int64(4), object(8)\n",
      "memory usage: 1.2+ MB\n"
     ]
    }
   ],
   "source": [
    "df_data.info()"
   ]
  },
  {
   "cell_type": "code",
   "execution_count": 23,
   "id": "d4529823-ad53-4bd5-be48-5cdb9e918d23",
   "metadata": {},
   "outputs": [],
   "source": [
    "# changing data type of a column \n",
    "df_data['Amount'] = df_data['Amount'].astype('int')"
   ]
  },
  {
   "cell_type": "code",
   "execution_count": 24,
   "id": "42a02ee9-a720-48be-9ad6-abdc44853071",
   "metadata": {},
   "outputs": [
    {
     "data": {
      "text/plain": [
       "dtype('int64')"
      ]
     },
     "execution_count": 24,
     "metadata": {},
     "output_type": "execute_result"
    }
   ],
   "source": [
    "# checking data type of a column\n",
    "df_data['Amount'].dtype"
   ]
  },
  {
   "cell_type": "code",
   "execution_count": 25,
   "id": "da458ce4-92e4-4aae-8bce-db13654cfc72",
   "metadata": {},
   "outputs": [
    {
     "data": {
      "text/plain": [
       "dtype('int64')"
      ]
     },
     "execution_count": 25,
     "metadata": {},
     "output_type": "execute_result"
    }
   ],
   "source": [
    "# checking data type of a column\n",
    "df_data['Amount'].dtypes"
   ]
  },
  {
   "cell_type": "code",
   "execution_count": 26,
   "id": "1bf863ec-ef71-480a-845e-0e6034c8f0fa",
   "metadata": {},
   "outputs": [
    {
     "data": {
      "text/plain": [
       "Index(['User_ID', 'Cust_name', 'Product_ID', 'Gender', 'Age Group', 'Age',\n",
       "       'Marital_Status', 'State', 'Zone', 'Occupation', 'Product_Category',\n",
       "       'Orders', 'Amount'],\n",
       "      dtype='object')"
      ]
     },
     "execution_count": 26,
     "metadata": {},
     "output_type": "execute_result"
    }
   ],
   "source": [
    "df_data.columns"
   ]
  },
  {
   "cell_type": "code",
   "execution_count": 27,
   "id": "30d1c855-604a-4efe-b20d-7af8ccad4e4e",
   "metadata": {},
   "outputs": [],
   "source": [
    "# renaming a coulumn \n",
    "df_data.rename(columns= {'Cust_name':'Customer_name'}, inplace=True)"
   ]
  },
  {
   "cell_type": "code",
   "execution_count": 28,
   "id": "574e5a0e-4024-4f35-a664-f4048d313010",
   "metadata": {},
   "outputs": [
    {
     "data": {
      "text/plain": [
       "Index(['User_ID', 'Customer_name', 'Product_ID', 'Gender', 'Age Group', 'Age',\n",
       "       'Marital_Status', 'State', 'Zone', 'Occupation', 'Product_Category',\n",
       "       'Orders', 'Amount'],\n",
       "      dtype='object')"
      ]
     },
     "execution_count": 28,
     "metadata": {},
     "output_type": "execute_result"
    }
   ],
   "source": [
    "df_data.columns"
   ]
  },
  {
   "cell_type": "code",
   "execution_count": 29,
   "id": "2c789ac9-783b-429b-be09-e50316b8875b",
   "metadata": {},
   "outputs": [
    {
     "data": {
      "text/html": [
       "<div>\n",
       "<style scoped>\n",
       "    .dataframe tbody tr th:only-of-type {\n",
       "        vertical-align: middle;\n",
       "    }\n",
       "\n",
       "    .dataframe tbody tr th {\n",
       "        vertical-align: top;\n",
       "    }\n",
       "\n",
       "    .dataframe thead th {\n",
       "        text-align: right;\n",
       "    }\n",
       "</style>\n",
       "<table border=\"1\" class=\"dataframe\">\n",
       "  <thead>\n",
       "    <tr style=\"text-align: right;\">\n",
       "      <th></th>\n",
       "      <th>count</th>\n",
       "      <th>mean</th>\n",
       "      <th>std</th>\n",
       "      <th>min</th>\n",
       "      <th>25%</th>\n",
       "      <th>50%</th>\n",
       "      <th>75%</th>\n",
       "      <th>max</th>\n",
       "    </tr>\n",
       "  </thead>\n",
       "  <tbody>\n",
       "    <tr>\n",
       "      <th>User_ID</th>\n",
       "      <td>11231.0</td>\n",
       "      <td>1.003004e+06</td>\n",
       "      <td>1716.054735</td>\n",
       "      <td>1000001.0</td>\n",
       "      <td>1001492.0</td>\n",
       "      <td>1003065.0</td>\n",
       "      <td>1004428.0</td>\n",
       "      <td>1006040.0</td>\n",
       "    </tr>\n",
       "    <tr>\n",
       "      <th>Age</th>\n",
       "      <td>11231.0</td>\n",
       "      <td>3.541198e+01</td>\n",
       "      <td>12.756116</td>\n",
       "      <td>12.0</td>\n",
       "      <td>27.0</td>\n",
       "      <td>33.0</td>\n",
       "      <td>43.0</td>\n",
       "      <td>92.0</td>\n",
       "    </tr>\n",
       "    <tr>\n",
       "      <th>Marital_Status</th>\n",
       "      <td>11231.0</td>\n",
       "      <td>4.199982e-01</td>\n",
       "      <td>0.493580</td>\n",
       "      <td>0.0</td>\n",
       "      <td>0.0</td>\n",
       "      <td>0.0</td>\n",
       "      <td>1.0</td>\n",
       "      <td>1.0</td>\n",
       "    </tr>\n",
       "    <tr>\n",
       "      <th>Orders</th>\n",
       "      <td>11231.0</td>\n",
       "      <td>2.489093e+00</td>\n",
       "      <td>1.114880</td>\n",
       "      <td>1.0</td>\n",
       "      <td>2.0</td>\n",
       "      <td>2.0</td>\n",
       "      <td>3.0</td>\n",
       "      <td>4.0</td>\n",
       "    </tr>\n",
       "    <tr>\n",
       "      <th>Amount</th>\n",
       "      <td>11231.0</td>\n",
       "      <td>9.454085e+03</td>\n",
       "      <td>5221.728074</td>\n",
       "      <td>188.0</td>\n",
       "      <td>5443.0</td>\n",
       "      <td>8109.0</td>\n",
       "      <td>12677.5</td>\n",
       "      <td>23952.0</td>\n",
       "    </tr>\n",
       "  </tbody>\n",
       "</table>\n",
       "</div>"
      ],
      "text/plain": [
       "                  count          mean          std        min        25%  \\\n",
       "User_ID         11231.0  1.003004e+06  1716.054735  1000001.0  1001492.0   \n",
       "Age             11231.0  3.541198e+01    12.756116       12.0       27.0   \n",
       "Marital_Status  11231.0  4.199982e-01     0.493580        0.0        0.0   \n",
       "Orders          11231.0  2.489093e+00     1.114880        1.0        2.0   \n",
       "Amount          11231.0  9.454085e+03  5221.728074      188.0     5443.0   \n",
       "\n",
       "                      50%        75%        max  \n",
       "User_ID         1003065.0  1004428.0  1006040.0  \n",
       "Age                  33.0       43.0       92.0  \n",
       "Marital_Status        0.0        1.0        1.0  \n",
       "Orders                2.0        3.0        4.0  \n",
       "Amount             8109.0    12677.5    23952.0  "
      ]
     },
     "execution_count": 29,
     "metadata": {},
     "output_type": "execute_result"
    }
   ],
   "source": [
    "# describe() returns mathematical description of numerical columns\n",
    "df_data.describe().transpose()"
   ]
  },
  {
   "cell_type": "code",
   "execution_count": 30,
   "id": "97e7aea1-554c-4e50-bcc6-9c714d960c30",
   "metadata": {},
   "outputs": [
    {
     "data": {
      "text/html": [
       "<div>\n",
       "<style scoped>\n",
       "    .dataframe tbody tr th:only-of-type {\n",
       "        vertical-align: middle;\n",
       "    }\n",
       "\n",
       "    .dataframe tbody tr th {\n",
       "        vertical-align: top;\n",
       "    }\n",
       "\n",
       "    .dataframe thead th {\n",
       "        text-align: right;\n",
       "    }\n",
       "</style>\n",
       "<table border=\"1\" class=\"dataframe\">\n",
       "  <thead>\n",
       "    <tr style=\"text-align: right;\">\n",
       "      <th></th>\n",
       "      <th>Orders</th>\n",
       "      <th>Amount</th>\n",
       "      <th>Age</th>\n",
       "    </tr>\n",
       "  </thead>\n",
       "  <tbody>\n",
       "    <tr>\n",
       "      <th>count</th>\n",
       "      <td>11231.000000</td>\n",
       "      <td>11231.000000</td>\n",
       "      <td>11231.000000</td>\n",
       "    </tr>\n",
       "    <tr>\n",
       "      <th>mean</th>\n",
       "      <td>2.489093</td>\n",
       "      <td>9454.084676</td>\n",
       "      <td>35.411985</td>\n",
       "    </tr>\n",
       "    <tr>\n",
       "      <th>std</th>\n",
       "      <td>1.114880</td>\n",
       "      <td>5221.728074</td>\n",
       "      <td>12.756116</td>\n",
       "    </tr>\n",
       "    <tr>\n",
       "      <th>min</th>\n",
       "      <td>1.000000</td>\n",
       "      <td>188.000000</td>\n",
       "      <td>12.000000</td>\n",
       "    </tr>\n",
       "    <tr>\n",
       "      <th>25%</th>\n",
       "      <td>2.000000</td>\n",
       "      <td>5443.000000</td>\n",
       "      <td>27.000000</td>\n",
       "    </tr>\n",
       "    <tr>\n",
       "      <th>50%</th>\n",
       "      <td>2.000000</td>\n",
       "      <td>8109.000000</td>\n",
       "      <td>33.000000</td>\n",
       "    </tr>\n",
       "    <tr>\n",
       "      <th>75%</th>\n",
       "      <td>3.000000</td>\n",
       "      <td>12677.500000</td>\n",
       "      <td>43.000000</td>\n",
       "    </tr>\n",
       "    <tr>\n",
       "      <th>max</th>\n",
       "      <td>4.000000</td>\n",
       "      <td>23952.000000</td>\n",
       "      <td>92.000000</td>\n",
       "    </tr>\n",
       "  </tbody>\n",
       "</table>\n",
       "</div>"
      ],
      "text/plain": [
       "             Orders        Amount           Age\n",
       "count  11231.000000  11231.000000  11231.000000\n",
       "mean       2.489093   9454.084676     35.411985\n",
       "std        1.114880   5221.728074     12.756116\n",
       "min        1.000000    188.000000     12.000000\n",
       "25%        2.000000   5443.000000     27.000000\n",
       "50%        2.000000   8109.000000     33.000000\n",
       "75%        3.000000  12677.500000     43.000000\n",
       "max        4.000000  23952.000000     92.000000"
      ]
     },
     "execution_count": 30,
     "metadata": {},
     "output_type": "execute_result"
    }
   ],
   "source": [
    "# describe() returns mathematical description of numerical columns (specific)\n",
    "df_data[['Orders','Amount','Age']].describe()"
   ]
  },
  {
   "cell_type": "markdown",
   "id": "1c1304bd-7571-40d7-bae3-aa353dc3f253",
   "metadata": {},
   "source": [
    "**Exploratory Data Analysis**"
   ]
  },
  {
   "cell_type": "markdown",
   "id": "db42871a-71d3-4ad0-bedd-fc3ce22a9782",
   "metadata": {},
   "source": [
    "**Gender**"
   ]
  },
  {
   "cell_type": "code",
   "execution_count": 33,
   "id": "53efc679-be15-43c1-9979-b15d8fd0a2f5",
   "metadata": {},
   "outputs": [
    {
     "data": {
      "text/plain": [
       "Index(['User_ID', 'Customer_name', 'Product_ID', 'Gender', 'Age Group', 'Age',\n",
       "       'Marital_Status', 'State', 'Zone', 'Occupation', 'Product_Category',\n",
       "       'Orders', 'Amount'],\n",
       "      dtype='object')"
      ]
     },
     "execution_count": 33,
     "metadata": {},
     "output_type": "execute_result"
    }
   ],
   "source": [
    "df_data.columns"
   ]
  },
  {
   "cell_type": "code",
   "execution_count": 34,
   "id": "a0ca21e5-9c51-4e19-9c0f-d6ad09b64ca8",
   "metadata": {},
   "outputs": [
    {
     "data": {
      "text/plain": [
       "array(['F', 'M'], dtype=object)"
      ]
     },
     "execution_count": 34,
     "metadata": {},
     "output_type": "execute_result"
    }
   ],
   "source": [
    "# getting nique values of Gender column\n",
    "df_data['Gender'].unique()"
   ]
  },
  {
   "cell_type": "code",
   "execution_count": 35,
   "id": "9f43f0f7-e933-4a2b-8994-24aa860919d3",
   "metadata": {},
   "outputs": [
    {
     "data": {
      "text/plain": [
       "array(['F', 'F', 'F', ..., 'F', 'M', 'F'], dtype=object)"
      ]
     },
     "execution_count": 35,
     "metadata": {},
     "output_type": "execute_result"
    }
   ],
   "source": [
    "df_data['Gender'].values"
   ]
  },
  {
   "cell_type": "code",
   "execution_count": 36,
   "id": "457f028c-1b10-43e9-a127-11989711e9b9",
   "metadata": {},
   "outputs": [
    {
     "data": {
      "text/plain": [
       "<AxesSubplot:xlabel='Gender', ylabel='count'>"
      ]
     },
     "execution_count": 36,
     "metadata": {},
     "output_type": "execute_result"
    },
    {
     "data": {
      "image/png": "[encoded data removed]",
      "text/plain": [
       "<Figure size 432x288 with 1 Axes>"
      ]
     },
     "metadata": {
      "needs_background": "light"
     },
     "output_type": "display_data"
    }
   ],
   "source": [
    "sns.countplot(x='Gender', data=df_data)"
   ]
  },
  {
   "cell_type": "markdown",
   "id": "0c97cdef-ee88-4be7-8d65-7124e3991c0d",
   "metadata": {},
   "source": [
    "showing count values on bars"
   ]
  },
  {
   "cell_type": "code",
   "execution_count": 38,
   "id": "87e470b3-44d7-4886-852a-47cbe19e8020",
   "metadata": {},
   "outputs": [
    {
     "data": {
      "image/png": "[encoded data removed]",
      "text/plain": [
       "<Figure size 432x288 with 1 Axes>"
      ]
     },
     "metadata": {
      "needs_background": "light"
     },
     "output_type": "display_data"
    }
   ],
   "source": [
    "ax = sns.countplot(x='Gender', data=df_data)\n",
    "for count in ax.containers:\n",
    "    ax.bar_label(count)"
   ]
  },
  {
   "cell_type": "code",
   "execution_count": 39,
   "id": "93a29a81-8f2a-41ee-807d-c27d0f152238",
   "metadata": {},
   "outputs": [
    {
     "data": {
      "text/html": [
       "<div>\n",
       "<style scoped>\n",
       "    .dataframe tbody tr th:only-of-type {\n",
       "        vertical-align: middle;\n",
       "    }\n",
       "\n",
       "    .dataframe tbody tr th {\n",
       "        vertical-align: top;\n",
       "    }\n",
       "\n",
       "    .dataframe thead th {\n",
       "        text-align: right;\n",
       "    }\n",
       "</style>\n",
       "<table border=\"1\" class=\"dataframe\">\n",
       "  <thead>\n",
       "    <tr style=\"text-align: right;\">\n",
       "      <th></th>\n",
       "      <th>Gender</th>\n",
       "      <th>Amount</th>\n",
       "    </tr>\n",
       "  </thead>\n",
       "  <tbody>\n",
       "    <tr>\n",
       "      <th>0</th>\n",
       "      <td>F</td>\n",
       "      <td>74307679</td>\n",
       "    </tr>\n",
       "    <tr>\n",
       "      <th>1</th>\n",
       "      <td>M</td>\n",
       "      <td>31871146</td>\n",
       "    </tr>\n",
       "  </tbody>\n",
       "</table>\n",
       "</div>"
      ],
      "text/plain": [
       "  Gender    Amount\n",
       "0      F  74307679\n",
       "1      M  31871146"
      ]
     },
     "execution_count": 39,
     "metadata": {},
     "output_type": "execute_result"
    }
   ],
   "source": [
    "df_data.groupby(['Gender'],as_index=False)['Amount'].sum()"
   ]
  },
  {
   "cell_type": "code",
   "execution_count": 40,
   "id": "ae23c7b0-6e4d-4202-8a05-907515bb75f4",
   "metadata": {},
   "outputs": [
    {
     "data": {
      "text/html": [
       "<div>\n",
       "<style scoped>\n",
       "    .dataframe tbody tr th:only-of-type {\n",
       "        vertical-align: middle;\n",
       "    }\n",
       "\n",
       "    .dataframe tbody tr th {\n",
       "        vertical-align: top;\n",
       "    }\n",
       "\n",
       "    .dataframe thead th {\n",
       "        text-align: right;\n",
       "    }\n",
       "</style>\n",
       "<table border=\"1\" class=\"dataframe\">\n",
       "  <thead>\n",
       "    <tr style=\"text-align: right;\">\n",
       "      <th></th>\n",
       "      <th>Gender</th>\n",
       "      <th>Amount</th>\n",
       "    </tr>\n",
       "  </thead>\n",
       "  <tbody>\n",
       "    <tr>\n",
       "      <th>1</th>\n",
       "      <td>M</td>\n",
       "      <td>31871146</td>\n",
       "    </tr>\n",
       "    <tr>\n",
       "      <th>0</th>\n",
       "      <td>F</td>\n",
       "      <td>74307679</td>\n",
       "    </tr>\n",
       "  </tbody>\n",
       "</table>\n",
       "</div>"
      ],
      "text/plain": [
       "  Gender    Amount\n",
       "1      M  31871146\n",
       "0      F  74307679"
      ]
     },
     "execution_count": 40,
     "metadata": {},
     "output_type": "execute_result"
    }
   ],
   "source": [
    "df_data.groupby(['Gender'],as_index=False)['Amount'].sum().sort_values(by='Amount', ascending=True)"
   ]
  },
  {
   "cell_type": "code",
   "execution_count": 41,
   "id": "c2a02180-1113-417d-bf14-d097566b4d8e",
   "metadata": {},
   "outputs": [
    {
     "data": {
      "image/png": "[encoded data removed]",
      "text/plain": [
       "<Figure size 432x288 with 1 Axes>"
      ]
     },
     "metadata": {
      "needs_background": "light"
     },
     "output_type": "display_data"
    }
   ],
   "source": [
    "sales_by_gender = df_data.groupby(['Gender'],as_index=False)['Amount'].sum().sort_values(by='Amount', ascending=False)\n",
    "\n",
    "x = sns.barplot(x='Gender', y='Amount', data=sales_by_gender)\n",
    "\n",
    "for bar in x.containers:\n",
    "    x.bar_label(bar)"
   ]
  },
  {
   "cell_type": "markdown",
   "id": "bb87a930-e412-4015-abf4-cf0e5a85bfce",
   "metadata": {},
   "source": [
    "From above chart we can conclude that Females bought spend more than Males (around more than 2X than Males)"
   ]
  },
  {
   "cell_type": "markdown",
   "id": "235aeb47-4fcc-462f-b574-94de84420dbb",
   "metadata": {},
   "source": [
    "**Age**"
   ]
  },
  {
   "cell_type": "code",
   "execution_count": 44,
   "id": "9715beae-ea44-4aff-9feb-2538d7f8e6ac",
   "metadata": {},
   "outputs": [
    {
     "data": {
      "text/plain": [
       "<AxesSubplot:xlabel='Gender', ylabel='count'>"
      ]
     },
     "execution_count": 44,
     "metadata": {},
     "output_type": "execute_result"
    },
    {
     "data": {
      "image/png": "[encoded data removed]",
      "text/plain": [
       "<Figure size 432x288 with 1 Axes>"
      ]
     },
     "metadata": {
      "needs_background": "light"
     },
     "output_type": "display_data"
    }
   ],
   "source": [
    "sns.countplot(x='Gender',data=df_data, hue='Age Group')"
   ]
  },
  {
   "cell_type": "code",
   "execution_count": 45,
   "id": "4ee8feda-e5ca-4899-8b0b-3dd97b18a45b",
   "metadata": {},
   "outputs": [
    {
     "data": {
      "text/plain": [
       "<AxesSubplot:xlabel='Age Group', ylabel='count'>"
      ]
     },
     "execution_count": 45,
     "metadata": {},
     "output_type": "execute_result"
    },
    {
     "data": {
      "image/png": "[encoded data removed]",
      "text/plain": [
       "<Figure size 432x288 with 1 Axes>"
      ]
     },
     "metadata": {
      "needs_background": "light"
     },
     "output_type": "display_data"
    }
   ],
   "source": [
    "sns.countplot(data=df_data, x='Age Group')"
   ]
  },
  {
   "cell_type": "code",
   "execution_count": 46,
   "id": "6ff5a86e-1eb5-4aa9-833c-a1a54e70464c",
   "metadata": {},
   "outputs": [
    {
     "data": {
      "text/plain": [
       "<AxesSubplot:xlabel='Age Group', ylabel='count'>"
      ]
     },
     "execution_count": 46,
     "metadata": {},
     "output_type": "execute_result"
    },
    {
     "data": {
      "image/png": "[encoded data removed]",
      "text/plain": [
       "<Figure size 432x288 with 1 Axes>"
      ]
     },
     "metadata": {
      "needs_background": "light"
     },
     "output_type": "display_data"
    }
   ],
   "source": [
    "sns.countplot(data=df_data, x='Age Group', hue='Gender')"
   ]
  },
  {
   "cell_type": "code",
   "execution_count": 47,
   "id": "afdd7853-edec-4089-9c0c-508a97d4ff4b",
   "metadata": {},
   "outputs": [
    {
     "data": {
      "image/png": "[encoded data removed]",
      "text/plain": [
       "<Figure size 432x288 with 1 Axes>"
      ]
     },
     "metadata": {
      "needs_background": "light"
     },
     "output_type": "display_data"
    }
   ],
   "source": [
    "x = sns.countplot(data=df_data, x='Age Group', hue='Gender', order= df_data['Age Group'].value_counts(ascending=False).index)\n",
    "\n",
    "for bar in x.containers:\n",
    "    x.bar_label(bar)"
   ]
  },
  {
   "cell_type": "code",
   "execution_count": 48,
   "id": "82093e3c-f387-45d6-bc7b-2a0569263bbc",
   "metadata": {},
   "outputs": [
    {
     "data": {
      "text/plain": [
       "<AxesSubplot:xlabel='Age Group', ylabel='Amount'>"
      ]
     },
     "execution_count": 48,
     "metadata": {},
     "output_type": "execute_result"
    },
    {
     "data": {
      "image/png": "[encoded data removed]",
      "text/plain": [
       "<Figure size 432x288 with 1 Axes>"
      ]
     },
     "metadata": {
      "needs_background": "light"
     },
     "output_type": "display_data"
    }
   ],
   "source": [
    "sales_by_age = df_data.groupby(['Age Group'], as_index=False)['Amount'].sum().sort_values(by='Amount', ascending=False)\n",
    "sns.barplot(data = sales_by_age, y= 'Amount', x='Age Group')"
   ]
  },
  {
   "cell_type": "markdown",
   "id": "df05f375-f8fa-40db-96d5-ff954e9ac985",
   "metadata": {},
   "source": [
    "from above graph we can see that the most buyers are female from age group 26-35"
   ]
  },
  {
   "cell_type": "markdown",
   "id": "27140988-eed1-47a4-919f-746c6f4b36db",
   "metadata": {},
   "source": [
    "**State**"
   ]
  },
  {
   "cell_type": "code",
   "execution_count": 51,
   "id": "3d1d8c96-ac47-4e6d-a963-ae4418a69f44",
   "metadata": {},
   "outputs": [
    {
     "data": {
      "text/plain": [
       "<AxesSubplot:xlabel='count', ylabel='State'>"
      ]
     },
     "execution_count": 51,
     "metadata": {},
     "output_type": "execute_result"
    },
    {
     "data": {
      "image/png": "[encoded data removed]",
      "text/plain": [
       "<Figure size 432x288 with 1 Axes>"
      ]
     },
     "metadata": {
      "needs_background": "light"
     },
     "output_type": "display_data"
    }
   ],
   "source": [
    "sns.countplot(y='State',data=df_data,order=df_data['State'].value_counts(ascending=False).index)"
   ]
  },
  {
   "cell_type": "code",
   "execution_count": 52,
   "id": "ebebf208-e5e5-4257-8e85-048298e3daf9",
   "metadata": {},
   "outputs": [
    {
     "data": {
      "text/plain": [
       "<AxesSubplot:xlabel='State', ylabel='count'>"
      ]
     },
     "execution_count": 52,
     "metadata": {},
     "output_type": "execute_result"
    },
    {
     "data": {
      "image/png": "[encoded data removed]",
      "text/plain": [
       "<Figure size 432x288 with 1 Axes>"
      ]
     },
     "metadata": {
      "needs_background": "light"
     },
     "output_type": "display_data"
    }
   ],
   "source": [
    "sns.countplot(x='State',data=df_data,order=df_data['State'].value_counts(ascending=False).index)"
   ]
  },
  {
   "cell_type": "code",
   "execution_count": 53,
   "id": "333e6042-11a1-40f0-8f81-3d45f6035fac",
   "metadata": {},
   "outputs": [
    {
     "data": {
      "text/html": [
       "<div>\n",
       "<style scoped>\n",
       "    .dataframe tbody tr th:only-of-type {\n",
       "        vertical-align: middle;\n",
       "    }\n",
       "\n",
       "    .dataframe tbody tr th {\n",
       "        vertical-align: top;\n",
       "    }\n",
       "\n",
       "    .dataframe thead th {\n",
       "        text-align: right;\n",
       "    }\n",
       "</style>\n",
       "<table border=\"1\" class=\"dataframe\">\n",
       "  <thead>\n",
       "    <tr style=\"text-align: right;\">\n",
       "      <th></th>\n",
       "      <th>State</th>\n",
       "      <th>Orders</th>\n",
       "    </tr>\n",
       "  </thead>\n",
       "  <tbody>\n",
       "    <tr>\n",
       "      <th>14</th>\n",
       "      <td>Uttar Pradesh</td>\n",
       "      <td>4803</td>\n",
       "    </tr>\n",
       "    <tr>\n",
       "      <th>10</th>\n",
       "      <td>Maharashtra</td>\n",
       "      <td>3798</td>\n",
       "    </tr>\n",
       "    <tr>\n",
       "      <th>7</th>\n",
       "      <td>Karnataka</td>\n",
       "      <td>3240</td>\n",
       "    </tr>\n",
       "    <tr>\n",
       "      <th>2</th>\n",
       "      <td>Delhi</td>\n",
       "      <td>2740</td>\n",
       "    </tr>\n",
       "    <tr>\n",
       "      <th>9</th>\n",
       "      <td>Madhya Pradesh</td>\n",
       "      <td>2252</td>\n",
       "    </tr>\n",
       "    <tr>\n",
       "      <th>0</th>\n",
       "      <td>Andhra Pradesh</td>\n",
       "      <td>2051</td>\n",
       "    </tr>\n",
       "    <tr>\n",
       "      <th>5</th>\n",
       "      <td>Himachal Pradesh</td>\n",
       "      <td>1568</td>\n",
       "    </tr>\n",
       "    <tr>\n",
       "      <th>8</th>\n",
       "      <td>Kerala</td>\n",
       "      <td>1137</td>\n",
       "    </tr>\n",
       "    <tr>\n",
       "      <th>4</th>\n",
       "      <td>Haryana</td>\n",
       "      <td>1106</td>\n",
       "    </tr>\n",
       "    <tr>\n",
       "      <th>3</th>\n",
       "      <td>Gujarat</td>\n",
       "      <td>1063</td>\n",
       "    </tr>\n",
       "  </tbody>\n",
       "</table>\n",
       "</div>"
      ],
      "text/plain": [
       "               State  Orders\n",
       "14     Uttar Pradesh    4803\n",
       "10       Maharashtra    3798\n",
       "7          Karnataka    3240\n",
       "2              Delhi    2740\n",
       "9     Madhya Pradesh    2252\n",
       "0     Andhra Pradesh    2051\n",
       "5   Himachal Pradesh    1568\n",
       "8             Kerala    1137\n",
       "4            Haryana    1106\n",
       "3            Gujarat    1063"
      ]
     },
     "execution_count": 53,
     "metadata": {},
     "output_type": "execute_result"
    }
   ],
   "source": [
    "# total number of orders from top 10 states\n",
    "\n",
    "orders_by_state = df_data.groupby(['State'], as_index=False)['Orders'].sum().sort_values(by='Orders', ascending=False)\n",
    "orders_by_state.head(10)"
   ]
  },
  {
   "cell_type": "code",
   "execution_count": 54,
   "id": "5bfc3f46-a67b-4e90-b03f-46de399171d9",
   "metadata": {},
   "outputs": [
    {
     "data": {
      "text/plain": [
       "<AxesSubplot:xlabel='Orders', ylabel='State'>"
      ]
     },
     "execution_count": 54,
     "metadata": {},
     "output_type": "execute_result"
    },
    {
     "data": {
      "image/png": "[encoded data removed]",
      "text/plain": [
       "<Figure size 432x288 with 1 Axes>"
      ]
     },
     "metadata": {
      "needs_background": "light"
     },
     "output_type": "display_data"
    }
   ],
   "source": [
    "sns.barplot(y='State', x='Orders', data=orders_by_state.head(10))"
   ]
  },
  {
   "cell_type": "code",
   "execution_count": 55,
   "id": "5140809a-680b-42c0-877f-0758c00795e8",
   "metadata": {},
   "outputs": [
    {
     "data": {
      "image/png": "[encoded data removed]",
      "text/plain": [
       "<Figure size 432x288 with 1 Axes>"
      ]
     },
     "metadata": {
      "needs_background": "light"
     },
     "output_type": "display_data"
    }
   ],
   "source": [
    "x = sns.barplot(y='State', x='Orders', data=orders_by_state.head(10))\n",
    "\n",
    "for bar in x.containers:\n",
    "    x.bar_label(bar)"
   ]
  },
  {
   "cell_type": "code",
   "execution_count": 56,
   "id": "531fe143-23e0-4ec9-bade-cd940f1411eb",
   "metadata": {},
   "outputs": [
    {
     "data": {
      "image/png": "[encoded data removed]",
      "text/plain": [
       "<Figure size 1224x360 with 1 Axes>"
      ]
     },
     "metadata": {},
     "output_type": "display_data"
    }
   ],
   "source": [
    "sns.set(rc = {'figure.figsize':(17,5)})\n",
    "x = sns.barplot(x='State', y = 'Orders', data=orders_by_state.head(7))\n",
    "for bar in x.containers:\n",
    "    x.bar_label(bar)"
   ]
  },
  {
   "cell_type": "code",
   "execution_count": 57,
   "id": "5e868f55-6b07-412b-9246-4ab3d771d645",
   "metadata": {},
   "outputs": [
    {
     "data": {
      "text/html": [
       "<div>\n",
       "<style scoped>\n",
       "    .dataframe tbody tr th:only-of-type {\n",
       "        vertical-align: middle;\n",
       "    }\n",
       "\n",
       "    .dataframe tbody tr th {\n",
       "        vertical-align: top;\n",
       "    }\n",
       "\n",
       "    .dataframe thead th {\n",
       "        text-align: right;\n",
       "    }\n",
       "</style>\n",
       "<table border=\"1\" class=\"dataframe\">\n",
       "  <thead>\n",
       "    <tr style=\"text-align: right;\">\n",
       "      <th></th>\n",
       "      <th>State</th>\n",
       "      <th>Amount</th>\n",
       "    </tr>\n",
       "  </thead>\n",
       "  <tbody>\n",
       "    <tr>\n",
       "      <th>14</th>\n",
       "      <td>Uttar Pradesh</td>\n",
       "      <td>19346055</td>\n",
       "    </tr>\n",
       "    <tr>\n",
       "      <th>10</th>\n",
       "      <td>Maharashtra</td>\n",
       "      <td>14404467</td>\n",
       "    </tr>\n",
       "    <tr>\n",
       "      <th>7</th>\n",
       "      <td>Karnataka</td>\n",
       "      <td>13523540</td>\n",
       "    </tr>\n",
       "    <tr>\n",
       "      <th>2</th>\n",
       "      <td>Delhi</td>\n",
       "      <td>11603818</td>\n",
       "    </tr>\n",
       "    <tr>\n",
       "      <th>9</th>\n",
       "      <td>Madhya Pradesh</td>\n",
       "      <td>8101142</td>\n",
       "    </tr>\n",
       "    <tr>\n",
       "      <th>0</th>\n",
       "      <td>Andhra Pradesh</td>\n",
       "      <td>8037146</td>\n",
       "    </tr>\n",
       "    <tr>\n",
       "      <th>5</th>\n",
       "      <td>Himachal Pradesh</td>\n",
       "      <td>4963368</td>\n",
       "    </tr>\n",
       "    <tr>\n",
       "      <th>4</th>\n",
       "      <td>Haryana</td>\n",
       "      <td>4217871</td>\n",
       "    </tr>\n",
       "    <tr>\n",
       "      <th>1</th>\n",
       "      <td>Bihar</td>\n",
       "      <td>4014669</td>\n",
       "    </tr>\n",
       "    <tr>\n",
       "      <th>3</th>\n",
       "      <td>Gujarat</td>\n",
       "      <td>3938159</td>\n",
       "    </tr>\n",
       "  </tbody>\n",
       "</table>\n",
       "</div>"
      ],
      "text/plain": [
       "               State    Amount\n",
       "14     Uttar Pradesh  19346055\n",
       "10       Maharashtra  14404467\n",
       "7          Karnataka  13523540\n",
       "2              Delhi  11603818\n",
       "9     Madhya Pradesh   8101142\n",
       "0     Andhra Pradesh   8037146\n",
       "5   Himachal Pradesh   4963368\n",
       "4            Haryana   4217871\n",
       "1              Bihar   4014669\n",
       "3            Gujarat   3938159"
      ]
     },
     "execution_count": 57,
     "metadata": {},
     "output_type": "execute_result"
    }
   ],
   "source": [
    "# total amount spent from top 10 states\n",
    "\n",
    "sales_by_state = df_data.groupby(['State'], as_index=False)['Amount'].sum().sort_values(by='Amount', ascending=False)\n",
    "sales_by_state.head(10)"
   ]
  },
  {
   "cell_type": "code",
   "execution_count": 58,
   "id": "f7414c4b-7973-4028-b288-4492a28950e0",
   "metadata": {},
   "outputs": [
    {
     "data": {
      "image/png": "[encoded data removed]",
      "text/plain": [
       "<Figure size 1224x360 with 1 Axes>"
      ]
     },
     "metadata": {},
     "output_type": "display_data"
    }
   ],
   "source": [
    "x = sns.barplot(y='State', x='Amount', data=sales_by_state.head(10))\n",
    "\n",
    "for bar in x.containers:\n",
    "    x.bar_label(bar)"
   ]
  },
  {
   "cell_type": "code",
   "execution_count": 59,
   "id": "eda17b37-779f-42d7-8b0a-aa0ca90ee5f2",
   "metadata": {},
   "outputs": [
    {
     "data": {
      "text/html": [
       "<div>\n",
       "<style scoped>\n",
       "    .dataframe tbody tr th:only-of-type {\n",
       "        vertical-align: middle;\n",
       "    }\n",
       "\n",
       "    .dataframe tbody tr th {\n",
       "        vertical-align: top;\n",
       "    }\n",
       "\n",
       "    .dataframe thead th {\n",
       "        text-align: right;\n",
       "    }\n",
       "</style>\n",
       "<table border=\"1\" class=\"dataframe\">\n",
       "  <thead>\n",
       "    <tr style=\"text-align: right;\">\n",
       "      <th></th>\n",
       "      <th>State</th>\n",
       "      <th>Orders</th>\n",
       "    </tr>\n",
       "  </thead>\n",
       "  <tbody>\n",
       "    <tr>\n",
       "      <th>14</th>\n",
       "      <td>Uttar Pradesh</td>\n",
       "      <td>4803</td>\n",
       "    </tr>\n",
       "    <tr>\n",
       "      <th>10</th>\n",
       "      <td>Maharashtra</td>\n",
       "      <td>3798</td>\n",
       "    </tr>\n",
       "    <tr>\n",
       "      <th>7</th>\n",
       "      <td>Karnataka</td>\n",
       "      <td>3240</td>\n",
       "    </tr>\n",
       "    <tr>\n",
       "      <th>2</th>\n",
       "      <td>Delhi</td>\n",
       "      <td>2740</td>\n",
       "    </tr>\n",
       "    <tr>\n",
       "      <th>9</th>\n",
       "      <td>Madhya Pradesh</td>\n",
       "      <td>2252</td>\n",
       "    </tr>\n",
       "    <tr>\n",
       "      <th>0</th>\n",
       "      <td>Andhra Pradesh</td>\n",
       "      <td>2051</td>\n",
       "    </tr>\n",
       "    <tr>\n",
       "      <th>5</th>\n",
       "      <td>Himachal Pradesh</td>\n",
       "      <td>1568</td>\n",
       "    </tr>\n",
       "    <tr>\n",
       "      <th>8</th>\n",
       "      <td>Kerala</td>\n",
       "      <td>1137</td>\n",
       "    </tr>\n",
       "    <tr>\n",
       "      <th>4</th>\n",
       "      <td>Haryana</td>\n",
       "      <td>1106</td>\n",
       "    </tr>\n",
       "    <tr>\n",
       "      <th>3</th>\n",
       "      <td>Gujarat</td>\n",
       "      <td>1063</td>\n",
       "    </tr>\n",
       "    <tr>\n",
       "      <th>1</th>\n",
       "      <td>Bihar</td>\n",
       "      <td>1058</td>\n",
       "    </tr>\n",
       "    <tr>\n",
       "      <th>6</th>\n",
       "      <td>Jharkhand</td>\n",
       "      <td>953</td>\n",
       "    </tr>\n",
       "    <tr>\n",
       "      <th>15</th>\n",
       "      <td>Uttarakhand</td>\n",
       "      <td>824</td>\n",
       "    </tr>\n",
       "    <tr>\n",
       "      <th>12</th>\n",
       "      <td>Rajasthan</td>\n",
       "      <td>555</td>\n",
       "    </tr>\n",
       "    <tr>\n",
       "      <th>11</th>\n",
       "      <td>Punjab</td>\n",
       "      <td>495</td>\n",
       "    </tr>\n",
       "    <tr>\n",
       "      <th>13</th>\n",
       "      <td>Telangana</td>\n",
       "      <td>312</td>\n",
       "    </tr>\n",
       "  </tbody>\n",
       "</table>\n",
       "</div>"
      ],
      "text/plain": [
       "               State  Orders\n",
       "14     Uttar Pradesh    4803\n",
       "10       Maharashtra    3798\n",
       "7          Karnataka    3240\n",
       "2              Delhi    2740\n",
       "9     Madhya Pradesh    2252\n",
       "0     Andhra Pradesh    2051\n",
       "5   Himachal Pradesh    1568\n",
       "8             Kerala    1137\n",
       "4            Haryana    1106\n",
       "3            Gujarat    1063\n",
       "1              Bihar    1058\n",
       "6          Jharkhand     953\n",
       "15       Uttarakhand     824\n",
       "12         Rajasthan     555\n",
       "11            Punjab     495\n",
       "13         Telangana     312"
      ]
     },
     "execution_count": 59,
     "metadata": {},
     "output_type": "execute_result"
    }
   ],
   "source": [
    "orders_by_state"
   ]
  },
  {
   "cell_type": "code",
   "execution_count": 60,
   "id": "34ff7171-faee-4ecd-b0ff-6468edff72e9",
   "metadata": {},
   "outputs": [
    {
     "data": {
      "image/png": "[encoded data removed]",
      "text/plain": [
       "<Figure size 936x360 with 1 Axes>"
      ]
     },
     "metadata": {},
     "output_type": "display_data"
    }
   ],
   "source": [
    "sns.set(rc = {'figure.figsize':(13,5)})\n",
    "x = sns.barplot(x = 'State', y = 'Orders', data = orders_by_state.head(7))\n",
    "for bar in x.containers:\n",
    "    x.bar_label(bar)"
   ]
  },
  {
   "cell_type": "markdown",
   "id": "c30f93ed-1107-4db1-a0ea-fe2d4c0643bb",
   "metadata": {},
   "source": [
    "from above graph we can see that most sales/orders are from Uttar Pradesh, Maharashtra and Karnataka respectively"
   ]
  },
  {
   "cell_type": "markdown",
   "id": "f68d0823-617a-47cb-aa7a-8aa9ce98a2cd",
   "metadata": {},
   "source": [
    "**Marital Status**"
   ]
  },
  {
   "cell_type": "code",
   "execution_count": 63,
   "id": "5e04bdf5-8b4f-4f74-9378-47a34e118388",
   "metadata": {},
   "outputs": [
    {
     "data": {
      "image/png": "[encoded data removed]",
      "text/plain": [
       "<Figure size 360x360 with 1 Axes>"
      ]
     },
     "metadata": {},
     "output_type": "display_data"
    }
   ],
   "source": [
    "sns.set(rc = {'figure.figsize':(5,5)})\n",
    "\n",
    "x = sns.countplot(x = df_data.Marital_Status.replace([0,1],['Unmarried','Married']))\n",
    "\n",
    "for bar in x.containers:\n",
    "    x.bar_label(bar)"
   ]
  },
  {
   "cell_type": "code",
   "execution_count": 64,
   "id": "f3beea73-ca07-4c15-910d-bc7204ca3b2e",
   "metadata": {},
   "outputs": [
    {
     "data": {
      "text/html": [
       "<div>\n",
       "<style scoped>\n",
       "    .dataframe tbody tr th:only-of-type {\n",
       "        vertical-align: middle;\n",
       "    }\n",
       "\n",
       "    .dataframe tbody tr th {\n",
       "        vertical-align: top;\n",
       "    }\n",
       "\n",
       "    .dataframe thead th {\n",
       "        text-align: right;\n",
       "    }\n",
       "</style>\n",
       "<table border=\"1\" class=\"dataframe\">\n",
       "  <thead>\n",
       "    <tr style=\"text-align: right;\">\n",
       "      <th></th>\n",
       "      <th>Marital_Status</th>\n",
       "      <th>Gender</th>\n",
       "      <th>Amount</th>\n",
       "    </tr>\n",
       "  </thead>\n",
       "  <tbody>\n",
       "    <tr>\n",
       "      <th>0</th>\n",
       "      <td>0</td>\n",
       "      <td>F</td>\n",
       "      <td>43778558</td>\n",
       "    </tr>\n",
       "    <tr>\n",
       "      <th>2</th>\n",
       "      <td>1</td>\n",
       "      <td>F</td>\n",
       "      <td>30529121</td>\n",
       "    </tr>\n",
       "    <tr>\n",
       "      <th>1</th>\n",
       "      <td>0</td>\n",
       "      <td>M</td>\n",
       "      <td>18320176</td>\n",
       "    </tr>\n",
       "    <tr>\n",
       "      <th>3</th>\n",
       "      <td>1</td>\n",
       "      <td>M</td>\n",
       "      <td>13550970</td>\n",
       "    </tr>\n",
       "  </tbody>\n",
       "</table>\n",
       "</div>"
      ],
      "text/plain": [
       "   Marital_Status Gender    Amount\n",
       "0               0      F  43778558\n",
       "2               1      F  30529121\n",
       "1               0      M  18320176\n",
       "3               1      M  13550970"
      ]
     },
     "execution_count": 64,
     "metadata": {},
     "output_type": "execute_result"
    }
   ],
   "source": [
    "sales_by_Marital_Status = df_data.groupby(['Marital_Status','Gender'], as_index=False)['Amount'].sum().sort_values(by='Amount', ascending=False)\n",
    "sales_by_Marital_Status"
   ]
  },
  {
   "cell_type": "code",
   "execution_count": 65,
   "id": "09b83680-de58-4d11-8f4d-80d9b38a6189",
   "metadata": {},
   "outputs": [
    {
     "data": {
      "image/png": "[encoded data removed]",
      "text/plain": [
       "<Figure size 360x360 with 1 Axes>"
      ]
     },
     "metadata": {},
     "output_type": "display_data"
    }
   ],
   "source": [
    "x = sns.barplot(y='Amount', x='Marital_Status', hue='Gender', data=sales_by_Marital_Status)\n",
    "sns.set(rc = {'figure.figsize':(10,5)})\n",
    "for bar in x.containers:\n",
    "    x.bar_label(bar)"
   ]
  },
  {
   "cell_type": "code",
   "execution_count": 66,
   "id": "ccaf7176-83d1-4ef5-993d-a91ec6aac5b3",
   "metadata": {},
   "outputs": [
    {
     "data": {
      "image/png": "[encoded data removed]",
      "text/plain": [
       "<Figure size 720x360 with 1 Axes>"
      ]
     },
     "metadata": {},
     "output_type": "display_data"
    }
   ],
   "source": [
    "x = sns.barplot(y= sales_by_Marital_Status.Amount / 1000 , x = sales_by_Marital_Status.Marital_Status.replace([0,1],['Unmarried','Married']), hue='Gender', data=sales_by_Marital_Status)\n",
    "plt.ylabel('Amount(k)')\n",
    "sns.set(rc = {'figure.figsize':(10,5)})\n",
    "for bar in x.containers:\n",
    "    x.bar_label(bar)"
   ]
  },
  {
   "cell_type": "code",
   "execution_count": 67,
   "id": "62c95900-b0e2-44a7-a250-01d3e2929800",
   "metadata": {},
   "outputs": [
    {
     "data": {
      "image/png": "[encoded data removed]",
      "text/plain": [
       "<Figure size 720x360 with 1 Axes>"
      ]
     },
     "metadata": {},
     "output_type": "display_data"
    }
   ],
   "source": [
    "x = sns.barplot(y= sales_by_Marital_Status.Amount / 1000 , x = sales_by_Marital_Status.Marital_Status, hue='Gender', data=sales_by_Marital_Status)\n",
    "plt.ylabel('Amount(k)')\n",
    "sns.set(rc = {'figure.figsize':(10,5)})\n",
    "for bar in x.containers:\n",
    "    x.bar_label(bar)"
   ]
  },
  {
   "cell_type": "markdown",
   "id": "e4ffb3c3-06ee-4507-946d-5d8b8608eff0",
   "metadata": {},
   "source": [
    "We can conclude that most buyers are unmarried(women)"
   ]
  },
  {
   "cell_type": "markdown",
   "id": "029cbbad-d934-4655-8225-289058eded72",
   "metadata": {},
   "source": [
    "**Occupation**"
   ]
  },
  {
   "cell_type": "code",
   "execution_count": 70,
   "id": "e70f5926-365a-4f42-a9ea-7e28a800dbc8",
   "metadata": {},
   "outputs": [
    {
     "data": {
      "text/plain": [
       "<AxesSubplot:xlabel='count', ylabel='Occupation'>"
      ]
     },
     "execution_count": 70,
     "metadata": {},
     "output_type": "execute_result"
    },
    {
     "data": {
      "image/png": "[encoded data removed]",
      "text/plain": [
       "<Figure size 720x360 with 1 Axes>"
      ]
     },
     "metadata": {},
     "output_type": "display_data"
    }
   ],
   "source": [
    "sns.countplot(y='Occupation',data=df_data,order=df_data['Occupation'].value_counts(ascending=False).index)"
   ]
  },
  {
   "cell_type": "code",
   "execution_count": 71,
   "id": "12d6fcbf-98f3-4653-b562-1f1b3f393e9b",
   "metadata": {},
   "outputs": [
    {
     "data": {
      "text/html": [
       "<div>\n",
       "<style scoped>\n",
       "    .dataframe tbody tr th:only-of-type {\n",
       "        vertical-align: middle;\n",
       "    }\n",
       "\n",
       "    .dataframe tbody tr th {\n",
       "        vertical-align: top;\n",
       "    }\n",
       "\n",
       "    .dataframe thead th {\n",
       "        text-align: right;\n",
       "    }\n",
       "</style>\n",
       "<table border=\"1\" class=\"dataframe\">\n",
       "  <thead>\n",
       "    <tr style=\"text-align: right;\">\n",
       "      <th></th>\n",
       "      <th>Occupation</th>\n",
       "      <th>Gender</th>\n",
       "      <th>Amount</th>\n",
       "    </tr>\n",
       "  </thead>\n",
       "  <tbody>\n",
       "    <tr>\n",
       "      <th>20</th>\n",
       "      <td>IT Sector</td>\n",
       "      <td>F</td>\n",
       "      <td>10184835</td>\n",
       "    </tr>\n",
       "    <tr>\n",
       "      <th>4</th>\n",
       "      <td>Aviation</td>\n",
       "      <td>F</td>\n",
       "      <td>9005089</td>\n",
       "    </tr>\n",
       "    <tr>\n",
       "      <th>16</th>\n",
       "      <td>Healthcare</td>\n",
       "      <td>F</td>\n",
       "      <td>8968231</td>\n",
       "    </tr>\n",
       "    <tr>\n",
       "      <th>6</th>\n",
       "      <td>Banking</td>\n",
       "      <td>F</td>\n",
       "      <td>7792295</td>\n",
       "    </tr>\n",
       "    <tr>\n",
       "      <th>14</th>\n",
       "      <td>Govt</td>\n",
       "      <td>F</td>\n",
       "      <td>6002907</td>\n",
       "    </tr>\n",
       "    <tr>\n",
       "      <th>21</th>\n",
       "      <td>IT Sector</td>\n",
       "      <td>M</td>\n",
       "      <td>4557027</td>\n",
       "    </tr>\n",
       "    <tr>\n",
       "      <th>24</th>\n",
       "      <td>Media</td>\n",
       "      <td>F</td>\n",
       "      <td>4375029</td>\n",
       "    </tr>\n",
       "    <tr>\n",
       "      <th>18</th>\n",
       "      <td>Hospitality</td>\n",
       "      <td>F</td>\n",
       "      <td>4173340</td>\n",
       "    </tr>\n",
       "    <tr>\n",
       "      <th>17</th>\n",
       "      <td>Healthcare</td>\n",
       "      <td>M</td>\n",
       "      <td>4066355</td>\n",
       "    </tr>\n",
       "    <tr>\n",
       "      <th>2</th>\n",
       "      <td>Automobile</td>\n",
       "      <td>F</td>\n",
       "      <td>3768843</td>\n",
       "    </tr>\n",
       "    <tr>\n",
       "      <th>8</th>\n",
       "      <td>Chemical</td>\n",
       "      <td>F</td>\n",
       "      <td>3665084</td>\n",
       "    </tr>\n",
       "    <tr>\n",
       "      <th>5</th>\n",
       "      <td>Aviation</td>\n",
       "      <td>M</td>\n",
       "      <td>3594905</td>\n",
       "    </tr>\n",
       "    <tr>\n",
       "      <th>26</th>\n",
       "      <td>Retail</td>\n",
       "      <td>F</td>\n",
       "      <td>3583695</td>\n",
       "    </tr>\n",
       "    <tr>\n",
       "      <th>22</th>\n",
       "      <td>Lawyer</td>\n",
       "      <td>F</td>\n",
       "      <td>3383409</td>\n",
       "    </tr>\n",
       "    <tr>\n",
       "      <th>7</th>\n",
       "      <td>Banking</td>\n",
       "      <td>M</td>\n",
       "      <td>2978315</td>\n",
       "    </tr>\n",
       "    <tr>\n",
       "      <th>12</th>\n",
       "      <td>Food Processing</td>\n",
       "      <td>F</td>\n",
       "      <td>2825277</td>\n",
       "    </tr>\n",
       "    <tr>\n",
       "      <th>10</th>\n",
       "      <td>Construction</td>\n",
       "      <td>F</td>\n",
       "      <td>2587499</td>\n",
       "    </tr>\n",
       "    <tr>\n",
       "      <th>15</th>\n",
       "      <td>Govt</td>\n",
       "      <td>M</td>\n",
       "      <td>2514305</td>\n",
       "    </tr>\n",
       "    <tr>\n",
       "      <th>19</th>\n",
       "      <td>Hospitality</td>\n",
       "      <td>M</td>\n",
       "      <td>2164293</td>\n",
       "    </tr>\n",
       "    <tr>\n",
       "      <th>28</th>\n",
       "      <td>Textile</td>\n",
       "      <td>F</td>\n",
       "      <td>2159752</td>\n",
       "    </tr>\n",
       "    <tr>\n",
       "      <th>25</th>\n",
       "      <td>Media</td>\n",
       "      <td>M</td>\n",
       "      <td>1920803</td>\n",
       "    </tr>\n",
       "    <tr>\n",
       "      <th>0</th>\n",
       "      <td>Agriculture</td>\n",
       "      <td>F</td>\n",
       "      <td>1832394</td>\n",
       "    </tr>\n",
       "    <tr>\n",
       "      <th>9</th>\n",
       "      <td>Chemical</td>\n",
       "      <td>M</td>\n",
       "      <td>1632352</td>\n",
       "    </tr>\n",
       "    <tr>\n",
       "      <th>3</th>\n",
       "      <td>Automobile</td>\n",
       "      <td>M</td>\n",
       "      <td>1599753</td>\n",
       "    </tr>\n",
       "    <tr>\n",
       "      <th>23</th>\n",
       "      <td>Lawyer</td>\n",
       "      <td>M</td>\n",
       "      <td>1598256</td>\n",
       "    </tr>\n",
       "    <tr>\n",
       "      <th>13</th>\n",
       "      <td>Food Processing</td>\n",
       "      <td>M</td>\n",
       "      <td>1245393</td>\n",
       "    </tr>\n",
       "    <tr>\n",
       "      <th>27</th>\n",
       "      <td>Retail</td>\n",
       "      <td>M</td>\n",
       "      <td>1199475</td>\n",
       "    </tr>\n",
       "    <tr>\n",
       "      <th>29</th>\n",
       "      <td>Textile</td>\n",
       "      <td>M</td>\n",
       "      <td>1045220</td>\n",
       "    </tr>\n",
       "    <tr>\n",
       "      <th>11</th>\n",
       "      <td>Construction</td>\n",
       "      <td>M</td>\n",
       "      <td>1002089</td>\n",
       "    </tr>\n",
       "    <tr>\n",
       "      <th>1</th>\n",
       "      <td>Agriculture</td>\n",
       "      <td>M</td>\n",
       "      <td>752605</td>\n",
       "    </tr>\n",
       "  </tbody>\n",
       "</table>\n",
       "</div>"
      ],
      "text/plain": [
       "         Occupation Gender    Amount\n",
       "20        IT Sector      F  10184835\n",
       "4          Aviation      F   9005089\n",
       "16       Healthcare      F   8968231\n",
       "6           Banking      F   7792295\n",
       "14             Govt      F   6002907\n",
       "21        IT Sector      M   4557027\n",
       "24            Media      F   4375029\n",
       "18      Hospitality      F   4173340\n",
       "17       Healthcare      M   4066355\n",
       "2        Automobile      F   3768843\n",
       "8          Chemical      F   3665084\n",
       "5          Aviation      M   3594905\n",
       "26           Retail      F   3583695\n",
       "22           Lawyer      F   3383409\n",
       "7           Banking      M   2978315\n",
       "12  Food Processing      F   2825277\n",
       "10     Construction      F   2587499\n",
       "15             Govt      M   2514305\n",
       "19      Hospitality      M   2164293\n",
       "28          Textile      F   2159752\n",
       "25            Media      M   1920803\n",
       "0       Agriculture      F   1832394\n",
       "9          Chemical      M   1632352\n",
       "3        Automobile      M   1599753\n",
       "23           Lawyer      M   1598256\n",
       "13  Food Processing      M   1245393\n",
       "27           Retail      M   1199475\n",
       "29          Textile      M   1045220\n",
       "11     Construction      M   1002089\n",
       "1       Agriculture      M    752605"
      ]
     },
     "execution_count": 71,
     "metadata": {},
     "output_type": "execute_result"
    }
   ],
   "source": [
    "sales_by_occupation = df_data.groupby(['Occupation','Gender'], as_index=False)['Amount'].sum().sort_values(by='Amount', ascending=False)\n",
    "sales_by_occupation"
   ]
  },
  {
   "cell_type": "code",
   "execution_count": 72,
   "id": "0916f47d-ef45-4162-8088-87651b1cc58f",
   "metadata": {},
   "outputs": [
    {
     "data": {
      "text/plain": [
       "<AxesSubplot:xlabel='Amount', ylabel='Occupation'>"
      ]
     },
     "execution_count": 72,
     "metadata": {},
     "output_type": "execute_result"
    },
    {
     "data": {
      "image/png": "[encoded data removed]",
      "text/plain": [
       "<Figure size 720x360 with 1 Axes>"
      ]
     },
     "metadata": {},
     "output_type": "display_data"
    }
   ],
   "source": [
    "sns.barplot(y='Occupation', x='Amount', data=sales_by_occupation, hue='Gender')"
   ]
  },
  {
   "cell_type": "markdown",
   "id": "1863ba16-3152-4c35-b92f-d1365e00fc51",
   "metadata": {},
   "source": [
    "most buyers are females from IT Sector, Aviation, Healthcare sectors respectively \n",
    "but top spenders are from occupation  IT Sector, Healthcare, Aviation respectively "
   ]
  },
  {
   "cell_type": "code",
   "execution_count": 74,
   "id": "5a02a3e9-4a69-4c29-b955-9e8ccc3cce08",
   "metadata": {},
   "outputs": [
    {
     "data": {
      "text/plain": [
       "<AxesSubplot:xlabel='count', ylabel='Product_Category'>"
      ]
     },
     "execution_count": 74,
     "metadata": {},
     "output_type": "execute_result"
    },
    {
     "data": {
      "image/png": "[encoded data removed]",
      "text/plain": [
       "<Figure size 720x360 with 1 Axes>"
      ]
     },
     "metadata": {},
     "output_type": "display_data"
    }
   ],
   "source": [
    "sns.countplot(y='Product_Category',data=df_data,order=df_data['Product_Category'].value_counts(ascending=False).index)"
   ]
  },
  {
   "cell_type": "markdown",
   "id": "33da51b3-813a-491e-8bf1-edcc60c529e7",
   "metadata": {},
   "source": [
    "most orders are from clothing category"
   ]
  },
  {
   "cell_type": "code",
   "execution_count": 76,
   "id": "865433c3-e93a-4a0b-8237-850417818522",
   "metadata": {},
   "outputs": [
    {
     "data": {
      "text/html": [
       "<div>\n",
       "<style scoped>\n",
       "    .dataframe tbody tr th:only-of-type {\n",
       "        vertical-align: middle;\n",
       "    }\n",
       "\n",
       "    .dataframe tbody tr th {\n",
       "        vertical-align: top;\n",
       "    }\n",
       "\n",
       "    .dataframe thead th {\n",
       "        text-align: right;\n",
       "    }\n",
       "</style>\n",
       "<table border=\"1\" class=\"dataframe\">\n",
       "  <thead>\n",
       "    <tr style=\"text-align: right;\">\n",
       "      <th></th>\n",
       "      <th>Product_Category</th>\n",
       "      <th>Gender</th>\n",
       "      <th>Amount</th>\n",
       "    </tr>\n",
       "  </thead>\n",
       "  <tbody>\n",
       "    <tr>\n",
       "      <th>12</th>\n",
       "      <td>Food</td>\n",
       "      <td>F</td>\n",
       "      <td>24176102</td>\n",
       "    </tr>\n",
       "    <tr>\n",
       "      <th>14</th>\n",
       "      <td>Footwear &amp; Shoes</td>\n",
       "      <td>F</td>\n",
       "      <td>11534547</td>\n",
       "    </tr>\n",
       "    <tr>\n",
       "      <th>6</th>\n",
       "      <td>Clothing &amp; Apparel</td>\n",
       "      <td>F</td>\n",
       "      <td>11479103</td>\n",
       "    </tr>\n",
       "    <tr>\n",
       "      <th>10</th>\n",
       "      <td>Electronics &amp; Gadgets</td>\n",
       "      <td>F</td>\n",
       "      <td>11004923</td>\n",
       "    </tr>\n",
       "    <tr>\n",
       "      <th>13</th>\n",
       "      <td>Food</td>\n",
       "      <td>M</td>\n",
       "      <td>9757781</td>\n",
       "    </tr>\n",
       "  </tbody>\n",
       "</table>\n",
       "</div>"
      ],
      "text/plain": [
       "         Product_Category Gender    Amount\n",
       "12                   Food      F  24176102\n",
       "14       Footwear & Shoes      F  11534547\n",
       "6      Clothing & Apparel      F  11479103\n",
       "10  Electronics & Gadgets      F  11004923\n",
       "13                   Food      M   9757781"
      ]
     },
     "execution_count": 76,
     "metadata": {},
     "output_type": "execute_result"
    }
   ],
   "source": [
    "sales_by_product_category = df_data.groupby(['Product_Category','Gender'], as_index=False)['Amount'].sum().sort_values(by='Amount', ascending=False)\n",
    "sales_by_product_category.head()"
   ]
  },
  {
   "cell_type": "markdown",
   "id": "c05fd2fc-bc73-4b72-89f4-caa3d4c4584c",
   "metadata": {},
   "source": [
    "most sales/Amount are from Food category followed by Footwear & shoes (Female)"
   ]
  },
  {
   "cell_type": "code",
   "execution_count": 78,
   "id": "93802a31-a7b2-4c42-b3e0-de4e9fdbada8",
   "metadata": {},
   "outputs": [
    {
     "data": {
      "text/plain": [
       "<AxesSubplot:xlabel='Amount', ylabel='Product_Category'>"
      ]
     },
     "execution_count": 78,
     "metadata": {},
     "output_type": "execute_result"
    },
    {
     "data": {
      "image/png": "[encoded data removed]",
      "text/plain": [
       "<Figure size 720x360 with 1 Axes>"
      ]
     },
     "metadata": {},
     "output_type": "display_data"
    }
   ],
   "source": [
    "sns.barplot(y='Product_Category', x='Amount', data=sales_by_product_category)"
   ]
  },
  {
   "cell_type": "code",
   "execution_count": 79,
   "id": "69f531aa-64f2-4556-87a6-59ea9d9630ca",
   "metadata": {},
   "outputs": [
    {
     "data": {
      "text/plain": [
       "<AxesSubplot:xlabel='Amount', ylabel='Product_Category'>"
      ]
     },
     "execution_count": 79,
     "metadata": {},
     "output_type": "execute_result"
    },
    {
     "data": {
      "image/png": "[encoded data removed]",
      "text/plain": [
       "<Figure size 720x360 with 1 Axes>"
      ]
     },
     "metadata": {},
     "output_type": "display_data"
    }
   ],
   "source": [
    "sns.barplot(y='Product_Category', x='Amount', data=sales_by_product_category, hue='Gender')"
   ]
  },
  {
   "cell_type": "markdown",
   "id": "92c8ffb4-4213-4df2-b583-e56516a57e31",
   "metadata": {},
   "source": [
    "we can see that most amount spent is on Food category but most orders are from clothing"
   ]
  },
  {
   "cell_type": "code",
   "execution_count": 81,
   "id": "70e8d24a-91e7-4029-bedc-35cef3365207",
   "metadata": {},
   "outputs": [
    {
     "data": {
      "text/html": [
       "<div>\n",
       "<style scoped>\n",
       "    .dataframe tbody tr th:only-of-type {\n",
       "        vertical-align: middle;\n",
       "    }\n",
       "\n",
       "    .dataframe tbody tr th {\n",
       "        vertical-align: top;\n",
       "    }\n",
       "\n",
       "    .dataframe thead th {\n",
       "        text-align: right;\n",
       "    }\n",
       "</style>\n",
       "<table border=\"1\" class=\"dataframe\">\n",
       "  <thead>\n",
       "    <tr style=\"text-align: right;\">\n",
       "      <th></th>\n",
       "      <th>Product_Category</th>\n",
       "      <th>Orders</th>\n",
       "    </tr>\n",
       "  </thead>\n",
       "  <tbody>\n",
       "    <tr>\n",
       "      <th>3</th>\n",
       "      <td>Clothing &amp; Apparel</td>\n",
       "      <td>6627</td>\n",
       "    </tr>\n",
       "    <tr>\n",
       "      <th>6</th>\n",
       "      <td>Food</td>\n",
       "      <td>6110</td>\n",
       "    </tr>\n",
       "    <tr>\n",
       "      <th>5</th>\n",
       "      <td>Electronics &amp; Gadgets</td>\n",
       "      <td>5208</td>\n",
       "    </tr>\n",
       "    <tr>\n",
       "      <th>7</th>\n",
       "      <td>Footwear &amp; Shoes</td>\n",
       "      <td>2646</td>\n",
       "    </tr>\n",
       "    <tr>\n",
       "      <th>11</th>\n",
       "      <td>Household items</td>\n",
       "      <td>1331</td>\n",
       "    </tr>\n",
       "  </tbody>\n",
       "</table>\n",
       "</div>"
      ],
      "text/plain": [
       "         Product_Category  Orders\n",
       "3      Clothing & Apparel    6627\n",
       "6                    Food    6110\n",
       "5   Electronics & Gadgets    5208\n",
       "7        Footwear & Shoes    2646\n",
       "11        Household items    1331"
      ]
     },
     "execution_count": 81,
     "metadata": {},
     "output_type": "execute_result"
    }
   ],
   "source": [
    "orders_by_product_category = df_data.groupby(['Product_Category'], as_index=False)['Orders'].sum().sort_values(by='Orders', ascending=False)\n",
    "orders_by_product_category.head()"
   ]
  },
  {
   "cell_type": "code",
   "execution_count": 82,
   "id": "931862ca-7570-4a4c-b2bb-db01c06ab8e2",
   "metadata": {},
   "outputs": [
    {
     "data": {
      "text/plain": [
       "<AxesSubplot:xlabel='Amount', ylabel='Product_ID'>"
      ]
     },
     "execution_count": 82,
     "metadata": {},
     "output_type": "execute_result"
    },
    {
     "data": {
      "image/png": "[encoded data removed]",
      "text/plain": [
       "<Figure size 720x360 with 1 Axes>"
      ]
     },
     "metadata": {},
     "output_type": "display_data"
    }
   ],
   "source": [
    "# top amounte generated product\n",
    "\n",
    "top_selling_product = df_data.groupby(['Product_ID'], as_index=False)['Amount'].sum().sort_values(by='Amount', ascending=False)\n",
    "sns.barplot(y='Product_ID', x='Amount', data=top_selling_product.head(10))"
   ]
  },
  {
   "cell_type": "code",
   "execution_count": 83,
   "id": "0e4ee3f0-e712-44ed-ae1d-5a923196ea69",
   "metadata": {},
   "outputs": [
    {
     "data": {
      "text/plain": [
       "<AxesSubplot:xlabel='Orders', ylabel='Product_ID'>"
      ]
     },
     "execution_count": 83,
     "metadata": {},
     "output_type": "execute_result"
    },
    {
     "data": {
      "image/png": "[encoded data removed]",
      "text/plain": [
       "<Figure size 720x360 with 1 Axes>"
      ]
     },
     "metadata": {},
     "output_type": "display_data"
    }
   ],
   "source": [
    "# top selling product\n",
    "\n",
    "top_ordered_product = df_data.groupby(['Product_ID'], as_index=False)['Orders'].sum().sort_values(by='Orders', ascending=False)\n",
    "sns.barplot(y='Product_ID', x='Orders', data=top_ordered_product.head(10))"
   ]
  },
  {
   "cell_type": "code",
   "execution_count": 84,
   "id": "80c0e00f-53db-41eb-b4d6-9ad82076e57a",
   "metadata": {},
   "outputs": [
    {
     "data": {
      "text/plain": [
       "<AxesSubplot:xlabel='Product_ID'>"
      ]
     },
     "execution_count": 84,
     "metadata": {},
     "output_type": "execute_result"
    },
    {
     "data": {
      "image/png": "[encoded data removed]",
      "text/plain": [
       "<Figure size 720x360 with 1 Axes>"
      ]
     },
     "metadata": {},
     "output_type": "display_data"
    }
   ],
   "source": [
    "df_data.groupby(['Product_ID'])['Orders'].sum().nlargest(10).sort_values(ascending=False).plot(kind='bar')"
   ]
  },
  {
   "cell_type": "markdown",
   "id": "4b310c10-c334-48c6-81c5-8891c35bf08b",
   "metadata": {},
   "source": [
    "**Conclusion: Unmarried women of age group 26-35 years from UP, Maharashtra and Karnataka working in IT, Aviation, Healthcare are most likely to buy products from Food, Clothes, and electronics**"
   ]
  },
  {
   "cell_type": "markdown",
   "id": "37dcd445-6e37-48c3-9f1d-a4ed3997b6a4",
   "metadata": {},
   "source": [
    "## **Project Learnings**\n",
    "* Performed data cleaning and manipulation\n",
    "* Performed exploratory data analysis (EDA) using pandas, matplotlib and seaborn libraries of python\n",
    "* Improved customer experience by identifying potential customers across different states, occupation, gender and age groups\n",
    "* Improved sales by identifying most selling product categories and products, which can help to plan inventory and hence meet the demands"
   ]
  }
 ],
 "metadata": {
  "kernelspec": {
   "display_name": "anaconda-2022.05-py39",
   "language": "python",
   "name": "conda-env-anaconda-2022.05-py39-py"
  },
  "language_info": {
   "codemirror_mode": {
    "name": "ipython",
    "version": 3
   },
   "file_extension": ".py",
   "mimetype": "text/x-python",
   "name": "python",
   "nbconvert_exporter": "python",
   "pygments_lexer": "ipython3",
   "version": "3.9.12"
  },
  "toc-autonumbering": false,
  "toc-showcode": false,
  "toc-showmarkdowntxt": false
 },
 "nbformat": 4,
 "nbformat_minor": 5
}
